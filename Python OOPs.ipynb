{
 "cells": [
  {
   "cell_type": "markdown",
   "id": "2cad2135-1381-4a90-940d-5bfb7f092453",
   "metadata": {},
   "source": [
    "# 1. What is Object-Oriented Programming (OOP)?"
   ]
  },
  {
   "cell_type": "markdown",
   "id": "8df956b3-768e-4dc7-abcc-e0481195658b",
   "metadata": {},
   "source": [
    "### Object-Oriented Programming (OOP) is a programming paradigm that organizes code using objects, which are instances of classes. It allows you to structure your programs in a way that is closer to real-world entities. Instead of writing code as a list of instructions or procedures (as in procedural programming), OOP focuses on objects that have:"
   ]
  },
  {
   "cell_type": "markdown",
   "id": "1bec7a37-9531-4df5-8681-9e7b8148bd77",
   "metadata": {},
   "source": [
    "#### -> Attributes (data) \n",
    "#### -> Methods (functions that operate on the data)"
   ]
  },
  {
   "cell_type": "markdown",
   "id": "4bab89e7-4d6d-48d3-8af0-0c3b62b9ca26",
   "metadata": {},
   "source": [
    "### Key Idea:"
   ]
  },
  {
   "cell_type": "markdown",
   "id": "e30ef724-c9f2-4c81-a83e-be5e73660690",
   "metadata": {},
   "source": [
    "#### Think of a class as a blueprint (like a car design), and an object as a specific car built from that blueprint."
   ]
  },
  {
   "cell_type": "markdown",
   "id": "a9e0b362-65b8-4836-bbf8-76d5357e367e",
   "metadata": {},
   "source": [
    "### Benefits of OOP:"
   ]
  },
  {
   "cell_type": "markdown",
   "id": "14d142bd-3b92-4eab-9634-eabfc42d7b3b",
   "metadata": {},
   "source": [
    "\n",
    "- Modularity: Code is organized into logical, reusable pieces.\n",
    "\n",
    "- Reusability: Classes can be reused across projects.\n",
    "\n",
    "- Maintainability: Easier to update and debug.\n",
    "\n",
    "- Scalability: Suitable for large, complex applications.\n"
   ]
  },
  {
   "cell_type": "markdown",
   "id": "684ca2ba-c4fa-48c8-bdeb-eebf1039cab5",
   "metadata": {},
   "source": [
    "### Example:"
   ]
  },
  {
   "cell_type": "code",
   "execution_count": 37,
   "id": "fc50b55f-807a-4433-8279-ef82aba1e13f",
   "metadata": {},
   "outputs": [],
   "source": [
    "class person:\n",
    "    def __init__(self,name,age):\n",
    "        self.name = name\n",
    "        self.age = age\n",
    "    def greet(self):\n",
    "        print(f\"Hello My name is {self.name}. i am {self.age} Years old\")\n",
    "    "
   ]
  },
  {
   "cell_type": "code",
   "execution_count": 38,
   "id": "9e0b4c46-717d-4ad9-9e9e-a9927ba78021",
   "metadata": {},
   "outputs": [
    {
     "name": "stdout",
     "output_type": "stream",
     "text": [
      "Hello My name is vishal. i am 27 Years old\n"
     ]
    }
   ],
   "source": [
    "obj = person(\"vishal\",27)\n",
    "obj.greet()"
   ]
  },
  {
   "cell_type": "markdown",
   "id": "34df45a4-0911-44cb-ab4b-f17e9290c3e0",
   "metadata": {},
   "source": [
    "# 2. What is a class in OOP?"
   ]
  },
  {
   "cell_type": "markdown",
   "id": "2dc948ad-2e10-4155-9c87-5256189c2450",
   "metadata": {},
   "source": [
    "### A class in Object-Oriented Programming (OOP) is a blueprint or template used to create objects."
   ]
  },
  {
   "cell_type": "markdown",
   "id": "5d2a6ddb-9cce-40ec-a044-0e521b7b506a",
   "metadata": {},
   "source": [
    "## Definition:"
   ]
  },
  {
   "cell_type": "markdown",
   "id": "bd0ad964-dcd4-40e9-b09d-8ea9a8bfe5de",
   "metadata": {},
   "source": [
    "#### A class defines the attributes (data) and methods (functions) that its objects will have. Think of a class like a cookie cutter, and the objects are the cookies made from it."
   ]
  },
  {
   "cell_type": "markdown",
   "id": "508a74cb-b962-49b8-9bc6-6720eade54ca",
   "metadata": {},
   "source": [
    "### Structure of a Class in Python:"
   ]
  },
  {
   "cell_type": "code",
   "execution_count": 40,
   "id": "dce7c6d4-8b12-4f73-abb4-34de473f19cc",
   "metadata": {},
   "outputs": [],
   "source": [
    "class ClassName:\n",
    "    def __init__(self, attribute1, attribute2):\n",
    "        self.attribute1 = attribute1\n",
    "        self.attribute2 = attribute2\n",
    "\n",
    "    def method1(self):\n",
    "        pass"
   ]
  },
  {
   "cell_type": "markdown",
   "id": "7e0cd863-ba01-4c35-81d0-274737a6cedb",
   "metadata": {},
   "source": [
    "### Example:"
   ]
  },
  {
   "cell_type": "code",
   "execution_count": 43,
   "id": "c514d808-ceaf-4c04-b0c8-9847a21009e8",
   "metadata": {},
   "outputs": [],
   "source": [
    "class Student:\n",
    "    def __init__(self,name,roll_no):\n",
    "        self.name = name\n",
    "        self.roll_no = roll_no\n",
    "    def student_info(self):\n",
    "        print(f\"name: {self.name},Roll No:{self.roll_no}\")\n"
   ]
  },
  {
   "cell_type": "code",
   "execution_count": 45,
   "id": "6c5821e6-d7ef-4d2e-8e35-9a0f691ede09",
   "metadata": {},
   "outputs": [
    {
     "name": "stdout",
     "output_type": "stream",
     "text": [
      "name: Vishal,Roll No:31\n"
     ]
    }
   ],
   "source": [
    "stud1 = Student(\"Vishal\",31)\n",
    "stud1.student_info()"
   ]
  },
  {
   "cell_type": "markdown",
   "id": "eba88012-4e51-41b5-b378-661bbc7898e5",
   "metadata": {},
   "source": [
    "Here:\n",
    "\n",
    "- Student is the class.\n",
    "\n",
    "- name and roll_no are attributes.\n",
    "\n",
    "- student_info() is a method."
   ]
  },
  {
   "cell_type": "markdown",
   "id": "17aa53dd-8e33-4302-b4d5-bf94406700fd",
   "metadata": {},
   "source": [
    "### Key Points:"
   ]
  },
  {
   "cell_type": "markdown",
   "id": "51c91e38-6289-467a-a04f-d14eb428089d",
   "metadata": {},
   "source": [
    "- A class does not hold actual data; it's just a design.\n",
    "\n",
    "- You need to create an object (instance) of the class to use it."
   ]
  },
  {
   "cell_type": "markdown",
   "id": "45ef9d1f-8783-4fcd-8473-e010531626d8",
   "metadata": {},
   "source": [
    "# 3 What is an object in OOP?"
   ]
  },
  {
   "cell_type": "markdown",
   "id": "38e980f6-4b9c-4a11-889c-05e2cdb111e7",
   "metadata": {},
   "source": [
    "#### An object is a real-world instance of a class. It is created using a class and contains actual data."
   ]
  },
  {
   "cell_type": "markdown",
   "id": "da03fe3a-e915-4af1-8654-236622c49404",
   "metadata": {},
   "source": [
    "### Definition:"
   ]
  },
  {
   "cell_type": "markdown",
   "id": "837fc30c-2602-47da-9433-ee9d0a370a4d",
   "metadata": {},
   "source": [
    "#### An object is an instance of a class that contains both data (attributes) and behavior (methods)."
   ]
  },
  {
   "cell_type": "markdown",
   "id": "34596960-1157-4cf2-99e4-a359eef616b1",
   "metadata": {},
   "source": [
    "### Analogy:"
   ]
  },
  {
   "cell_type": "markdown",
   "id": "8f998d6a-cd23-4c90-b3cf-0a835a372dac",
   "metadata": {},
   "source": [
    "- Class: Blueprint of a car.\n",
    "\n",
    "- Object: A specific car built using the blueprint (e.g., red Toyota Corolla with AC)."
   ]
  },
  {
   "cell_type": "markdown",
   "id": "cf3f8fc6-b2a9-4758-810c-21189b0b3637",
   "metadata": {},
   "source": [
    "### Example in Python:"
   ]
  },
  {
   "cell_type": "code",
   "execution_count": 48,
   "id": "1d2b0999-1732-45c0-ac84-51eeb9ce1a24",
   "metadata": {},
   "outputs": [
    {
     "name": "stdout",
     "output_type": "stream",
     "text": [
      "name: Vishal,Roll No:31\n",
      "name: Pratik,Roll No:26\n"
     ]
    }
   ],
   "source": [
    "class Student:\n",
    "    def __init__(self,name,roll_no):\n",
    "        self.name = name\n",
    "        self.roll_no = roll_no\n",
    "    def student_info(self):\n",
    "        print(f\"name: {self.name},Roll No:{self.roll_no}\")\n",
    "\n",
    "# Creating objects\n",
    "s1 = Student(\"Vishal\", 31)\n",
    "s2 = Student(\"Pratik\", 26)\n",
    "\n",
    "# Using object methods\n",
    "s1.student_info()  \n",
    "s2.student_info()  \n"
   ]
  },
  {
   "cell_type": "markdown",
   "id": "36f36213-5c9d-4e15-8adf-0c22019a9b12",
   "metadata": {},
   "source": [
    "Here:\n",
    "\n",
    "- s1 and s2 are objects of the Student class.\n",
    "\n",
    "- Each object stores its own values for name and roll_no."
   ]
  },
  {
   "cell_type": "markdown",
   "id": "1e86599e-bc11-4c6e-ad2c-6479a18c8768",
   "metadata": {},
   "source": [
    "### Key Features of an Object:"
   ]
  },
  {
   "cell_type": "markdown",
   "id": "6a0d30b8-acfa-4399-9e2a-8c645ea0d0c1",
   "metadata": {},
   "source": [
    "- Stores data (attributes).\n",
    "\n",
    "- Can perform actions (methods).\n",
    "\n",
    "- Can be created multiple times from the same class."
   ]
  },
  {
   "cell_type": "markdown",
   "id": "116d7c9e-3f58-42ee-ab61-193257f88b53",
   "metadata": {},
   "source": [
    "# 4. What is the difference between abstraction and encapsulation?"
   ]
  },
  {
   "cell_type": "markdown",
   "id": "a02118c7-e5e9-4bc7-993f-9f2fc83fc26e",
   "metadata": {},
   "source": [
    "####  Both abstraction and encapsulation are core OOP concepts, but they serve different purposes."
   ]
  },
  {
   "cell_type": "markdown",
   "id": "e5a84b5b-0643-4be2-a25b-79ec631bc05b",
   "metadata": {},
   "source": [
    "### Definition :"
   ]
  },
  {
   "cell_type": "markdown",
   "id": "ada484a9-57d9-4269-9fff-81669553632c",
   "metadata": {},
   "source": [
    "#### -> Abstraction : Hiding complex implementation details and showing only essential features"
   ]
  },
  {
   "cell_type": "markdown",
   "id": "41398fec-74bd-4642-b3d9-1aa2635b01f0",
   "metadata": {},
   "source": [
    "#### -> Encapsulation: Wrapping data and methods into a single unit and restricting direct access"
   ]
  },
  {
   "cell_type": "markdown",
   "id": "e2be1522-4977-470a-8d8c-eb4baee77cc3",
   "metadata": {},
   "source": [
    "### Purpose :"
   ]
  },
  {
   "cell_type": "markdown",
   "id": "ff5bb5d8-e643-48b1-bc95-4b41377fc448",
   "metadata": {},
   "source": [
    "#### -> Abstraction :\tTo focus on what an object does"
   ]
  },
  {
   "cell_type": "markdown",
   "id": "694bd2bf-cc1d-43fc-8afa-25fcb1e493bd",
   "metadata": {},
   "source": [
    "#### -> Encapsulation: To control how data is accessed or modified"
   ]
  },
  {
   "cell_type": "markdown",
   "id": "a0756076-5f6d-42b4-a0ac-cea0d295e2ae",
   "metadata": {},
   "source": [
    "### Hides :"
   ]
  },
  {
   "cell_type": "markdown",
   "id": "8d65550e-1daf-404e-be2d-477eadf28706",
   "metadata": {},
   "source": [
    "#### -> Abstraction : Implementation complexity"
   ]
  },
  {
   "cell_type": "markdown",
   "id": "69082bb2-10e8-4367-92f9-9820ca5e0e2f",
   "metadata": {},
   "source": [
    "#### -> Encapsulation: Internal object state (data)"
   ]
  },
  {
   "cell_type": "markdown",
   "id": "c4e5171e-7c7c-422c-b1e5-1cdb055a1787",
   "metadata": {},
   "source": [
    "### Achieved By :"
   ]
  },
  {
   "cell_type": "markdown",
   "id": "e6c9ca2e-acda-40ac-b414-e4f7c4be80c5",
   "metadata": {},
   "source": [
    "#### -> Abstraction : Abstract classes and interfaces"
   ]
  },
  {
   "cell_type": "markdown",
   "id": "82c83bab-4d30-4155-b498-ccc4ef59badf",
   "metadata": {},
   "source": [
    "#### -> Encapsulation: Access modifiers (public, private), getters/setters"
   ]
  },
  {
   "cell_type": "markdown",
   "id": "7869f882-7398-4575-84b0-011a2009b4c8",
   "metadata": {},
   "source": [
    "### Real-World Example :"
   ]
  },
  {
   "cell_type": "markdown",
   "id": "e480208b-9d7f-4336-ae5b-ef813510f998",
   "metadata": {},
   "source": [
    "#### -> Abstraction : Driving a car without knowing how the engine works"
   ]
  },
  {
   "cell_type": "markdown",
   "id": "388ee30e-e688-4ff0-aa3a-902ea077798f",
   "metadata": {},
   "source": [
    "#### -> Encapsulation: Car dashboard prevents direct access to engine internals"
   ]
  },
  {
   "cell_type": "markdown",
   "id": "2dee1152-cd03-4a1f-a7ef-fc54d4daae72",
   "metadata": {},
   "source": [
    "### Example in Python :"
   ]
  },
  {
   "cell_type": "markdown",
   "id": "091846b8-feb8-418b-9954-8f63ef636ba6",
   "metadata": {},
   "source": [
    " #### Abstraction: Using ABC (Abstract Base Class):"
   ]
  },
  {
   "cell_type": "code",
   "execution_count": 61,
   "id": "cee0d4f5-2d84-4d92-a850-a9d482b28aba",
   "metadata": {},
   "outputs": [],
   "source": [
    "from abc import ABC,abstractmethod\n",
    "\n",
    "class Animal(ABC):\n",
    "    @abstractmethod\n",
    "    def make_soundnoise(self):\n",
    "        pass\n",
    "class dog(Animal):\n",
    "    def make_soundnoise(self):\n",
    "        print(\"bark\")\n"
   ]
  },
  {
   "cell_type": "code",
   "execution_count": 62,
   "id": "e84e96c7-685e-46e7-a277-48b2c9cdb276",
   "metadata": {},
   "outputs": [],
   "source": [
    "d = dog()"
   ]
  },
  {
   "cell_type": "code",
   "execution_count": 63,
   "id": "97c3ef0d-511b-4e24-b79e-e5795f490f10",
   "metadata": {},
   "outputs": [
    {
     "name": "stdout",
     "output_type": "stream",
     "text": [
      "bark\n"
     ]
    }
   ],
   "source": [
    "d.make_soundnoise()"
   ]
  },
  {
   "cell_type": "markdown",
   "id": "3456a819-1c7f-4889-a438-b0ef555f03b2",
   "metadata": {},
   "source": [
    "###  Encapsulation:"
   ]
  },
  {
   "cell_type": "code",
   "execution_count": 76,
   "id": "b65392ab-8d2e-4faa-bb04-2d39f3e21e43",
   "metadata": {},
   "outputs": [],
   "source": [
    "class bankaccount:\n",
    "    def __init__(self,balance):\n",
    "        self.__balance = balance\n",
    "    def withdraw(self,amount):\n",
    "        if amount > 0:\n",
    "            self.__balance = self.__balance - amount\n",
    "    def deposite(self,amount):\n",
    "        if amount > 0:\n",
    "            self.__balance = self.__balance + amount\n",
    "    def get_balance(self):\n",
    "        return self.__balance\n"
   ]
  },
  {
   "cell_type": "code",
   "execution_count": 78,
   "id": "f24d851a-27df-417b-ad80-11cba7ed7882",
   "metadata": {},
   "outputs": [],
   "source": [
    "acc = bankaccount(1500)"
   ]
  },
  {
   "cell_type": "code",
   "execution_count": 79,
   "id": "1368f35c-db76-42c1-93e7-92675a6db43c",
   "metadata": {},
   "outputs": [
    {
     "data": {
      "text/plain": [
       "1500"
      ]
     },
     "execution_count": 79,
     "metadata": {},
     "output_type": "execute_result"
    }
   ],
   "source": [
    "acc.get_balance()"
   ]
  },
  {
   "cell_type": "code",
   "execution_count": 80,
   "id": "3c20123d-c2a8-410c-a231-cb758d4b556f",
   "metadata": {},
   "outputs": [],
   "source": [
    "acc.deposite(500)"
   ]
  },
  {
   "cell_type": "code",
   "execution_count": 81,
   "id": "a415ef30-85a7-4df8-bac4-72982c45fc7c",
   "metadata": {},
   "outputs": [
    {
     "data": {
      "text/plain": [
       "2000"
      ]
     },
     "execution_count": 81,
     "metadata": {},
     "output_type": "execute_result"
    }
   ],
   "source": [
    "acc.get_balance()"
   ]
  },
  {
   "cell_type": "code",
   "execution_count": 82,
   "id": "07f5174c-c0b0-493b-979c-ef55ea95728d",
   "metadata": {},
   "outputs": [],
   "source": [
    "acc.withdraw(1999)"
   ]
  },
  {
   "cell_type": "code",
   "execution_count": 83,
   "id": "38267bcc-0b9e-48c7-a2dc-1f5bb769a2db",
   "metadata": {},
   "outputs": [
    {
     "data": {
      "text/plain": [
       "1"
      ]
     },
     "execution_count": 83,
     "metadata": {},
     "output_type": "execute_result"
    }
   ],
   "source": [
    "acc.get_balance()"
   ]
  },
  {
   "cell_type": "markdown",
   "id": "c211801d-714a-489b-8b17-1065af6bf41f",
   "metadata": {},
   "source": [
    "#### Here, the balance is hidden from direct access and modified only via methods."
   ]
  },
  {
   "cell_type": "markdown",
   "id": "05950869-85c2-48bf-a8ac-afee3c944c9d",
   "metadata": {},
   "source": [
    "### Summary:"
   ]
  },
  {
   "cell_type": "markdown",
   "id": "cddc1f09-3260-42b9-bf97-691498c2b877",
   "metadata": {},
   "source": [
    "- Abstraction = Hiding complexity → Focus on what the object does.\n",
    "\n",
    "- Encapsulation = Hiding data → Control how the object works internally."
   ]
  },
  {
   "cell_type": "markdown",
   "id": "6a4dd8e6-06fe-49ec-88b5-e1737df58e92",
   "metadata": {},
   "source": [
    "# 5. What are dunder methods in Python?"
   ]
  },
  {
   "cell_type": "markdown",
   "id": "a6418b3b-7d8b-49e3-bb0a-3e45efcee8f2",
   "metadata": {},
   "source": [
    "#### Dunder methods (short for “double underscore” methods) are special built-in methods in Python that start and end with two underscores, like __init__, __str__, __len__, etc."
   ]
  },
  {
   "cell_type": "markdown",
   "id": "547290e8-2334-458a-936a-2924579cfe7b",
   "metadata": {},
   "source": [
    "### Definition:"
   ]
  },
  {
   "cell_type": "markdown",
   "id": "86ac985b-a196-4e58-a7cb-33bd1641d3d7",
   "metadata": {},
   "source": [
    "#### Dunder methods let you customize the behavior of your objects when using Python’s built-in functions or operators."
   ]
  },
  {
   "cell_type": "markdown",
   "id": "3d8a9b18-3da5-4548-9618-6bafa22ba643",
   "metadata": {},
   "source": [
    "### Why Use Them?"
   ]
  },
  {
   "cell_type": "markdown",
   "id": "26770bd9-1c29-4565-894b-074de2d65450",
   "metadata": {},
   "source": [
    "They help you:\n",
    "\n",
    "- Initialize objects __ init __\n",
    "\n",
    "- Print objects nicely  __ str __\n",
    "\n",
    "- Compare objects ___ eq ___, __ lt __\n",
    "\n",
    "- Add custom behavior to operators (+, -, *, etc. via __ add __, __ sub __)\n",
    "\n",
    "- Control length, representation, etc."
   ]
  },
  {
   "cell_type": "markdown",
   "id": "0c42edc2-f977-4158-a4fc-fd14cee88e40",
   "metadata": {},
   "source": [
    "### Common Dunder Methods (with Examples)"
   ]
  },
  {
   "cell_type": "markdown",
   "id": "73b96c3d-4bcd-44d7-a42f-16829225dc02",
   "metadata": {},
   "source": [
    "__ init __: Constructor (used to initialize an object)"
   ]
  },
  {
   "cell_type": "code",
   "execution_count": 84,
   "id": "16df7d51-0d81-4372-ae80-ed8a83c04460",
   "metadata": {},
   "outputs": [],
   "source": [
    "class Person:\n",
    "    def __init__(self, name):\n",
    "        self.name = name\n",
    "\n",
    "p = Person(\"Vishal\")\n"
   ]
  },
  {
   "cell_type": "markdown",
   "id": "c9917798-4741-46a8-9552-7d3dee3816e3",
   "metadata": {},
   "source": [
    "__ str __: String representation (used when you print() the object)"
   ]
  },
  {
   "cell_type": "code",
   "execution_count": 99,
   "id": "f78bda47-2634-4445-b9c0-8b9655ceb936",
   "metadata": {},
   "outputs": [
    {
     "name": "stdout",
     "output_type": "stream",
     "text": [
      "person : Vishal\n"
     ]
    }
   ],
   "source": [
    "class person:\n",
    "    def __init__(self,name):\n",
    "        self.name = name\n",
    "    def __str__(self):\n",
    "         return (f\"person : {self.name}\")\n",
    "\n",
    "p = person(\"Vishal\")\n",
    "print(p)\n"
   ]
  },
  {
   "cell_type": "markdown",
   "id": "94018261-4aff-4810-b75d-bdb0d22bbe58",
   "metadata": {},
   "source": [
    "__ len __: Used by the len() function"
   ]
  },
  {
   "cell_type": "code",
   "execution_count": 101,
   "id": "abd886d9-e2c3-4de5-9788-3f2936bd8b97",
   "metadata": {},
   "outputs": [
    {
     "name": "stdout",
     "output_type": "stream",
     "text": [
      "4\n"
     ]
    }
   ],
   "source": [
    "class mylist:\n",
    "    def __init__(self,data):\n",
    "        self.data=data\n",
    "    def __len__(self):\n",
    "        return len(self.data)\n",
    "l = mylist([1,2,3,4])\n",
    "print(len(l))"
   ]
  },
  {
   "cell_type": "markdown",
   "id": "dc9dbd3d-514d-42da-908d-6c868c8c018f",
   "metadata": {},
   "source": [
    "### Summary:"
   ]
  },
  {
   "cell_type": "code",
   "execution_count": null,
   "id": "bffb18f4-82a8-467d-b492-7312ccc6f798",
   "metadata": {},
   "outputs": [],
   "source": [
    "'''\n",
    "Dunder Method\t        Purpose\t                  Example Use\n",
    "__init__\t        Initializes a new object\t  p = Person(\"A\")\n",
    "__str__\t            User-friendly string output\t  print(obj)\n",
    "__len__\t            Returns length\t              len(obj)\n",
    "__add__\t            Adds two objects\t          obj1 + obj2\n",
    "__eq__\t            Checks equality\t               obj1 == obj2\n",
    "'''"
   ]
  },
  {
   "cell_type": "markdown",
   "id": "bbf556ea-fc52-4b76-a7da-af9b3f543959",
   "metadata": {},
   "source": [
    "# 6. Explain the concept of inheritance in OOP."
   ]
  },
  {
   "cell_type": "markdown",
   "id": "96c4c7d8-99e5-4b6b-987f-1a7be7bb9d60",
   "metadata": {},
   "source": [
    "#### Inheritance is one of the core concepts of OOP. It allows a class (called the child class or subclass) to inherit attributes and methods from another class (called the parent class or superclass)."
   ]
  },
  {
   "cell_type": "markdown",
   "id": "37510fa2-c173-4740-9405-51b31b44e88f",
   "metadata": {},
   "source": [
    "### Why Use Inheritance?"
   ]
  },
  {
   "cell_type": "markdown",
   "id": "5453fa1c-8d8b-437a-841e-10e304802670",
   "metadata": {},
   "source": [
    "- To reuse existing code (avoid duplication)\n",
    "\n",
    "- To create a hierarchical structure (like a family tree of classes)\n",
    "\n",
    "- To extend or modify behavior of the parent class without changing it"
   ]
  },
  {
   "cell_type": "markdown",
   "id": "610d015e-8642-40d0-b698-28de311ba113",
   "metadata": {},
   "source": [
    "### Basic Syntax:"
   ]
  },
  {
   "cell_type": "code",
   "execution_count": 104,
   "id": "d0cf4b2f-d6f8-4f39-9400-173312e4e805",
   "metadata": {},
   "outputs": [
    {
     "name": "stdout",
     "output_type": "stream",
     "text": [
      "hello from parent\n",
      "i am child\n"
     ]
    }
   ],
   "source": [
    "class parent:\n",
    "    def greet(self):\n",
    "        print(\"hello from parent\")\n",
    "\n",
    "class child(parent):\n",
    "    def speak(self):\n",
    "        print(\"i am child\")\n",
    "\n",
    "c = child()\n",
    "c.greet() # Inherited from Parent\n",
    "c.speak() # Defined in Child"
   ]
  },
  {
   "cell_type": "markdown",
   "id": "ce75ef44-bad5-46b4-96ca-c65f6cd8fb10",
   "metadata": {},
   "source": [
    "### Example: Animal Inheritance"
   ]
  },
  {
   "cell_type": "code",
   "execution_count": 105,
   "id": "2e5a7625-ab3f-4ebc-941b-acc06440c598",
   "metadata": {},
   "outputs": [
    {
     "name": "stdout",
     "output_type": "stream",
     "text": [
      "Bark!\n",
      "Meow!\n"
     ]
    }
   ],
   "source": [
    "class Animal:\n",
    "    def sound(self):\n",
    "        print(\"This animal makes a sound\")\n",
    "\n",
    "class Dog(Animal):\n",
    "    def sound(self):\n",
    "        print(\"Bark!\")\n",
    "\n",
    "class Cat(Animal):\n",
    "    def sound(self):\n",
    "        print(\"Meow!\")\n",
    "\n",
    "d = Dog()\n",
    "c = Cat()\n",
    "\n",
    "d.sound() \n",
    "c.sound() \n"
   ]
  },
  {
   "cell_type": "markdown",
   "id": "f4642c3e-79d8-457c-a20f-2a5c5f083db4",
   "metadata": {},
   "source": [
    "#### Here, Dog and Cat inherit from Animal, but also override its sound() method. This is an example of method overriding."
   ]
  },
  {
   "cell_type": "markdown",
   "id": "ed1d19c9-cccb-4cf0-b9b3-9104821c0081",
   "metadata": {},
   "source": [
    "### Types of Inheritance in Python:"
   ]
  },
  {
   "cell_type": "markdown",
   "id": "c7cb9a68-1b88-4f99-8388-40eb00116b20",
   "metadata": {},
   "source": [
    "1. Single Inheritance – One parent, one child.\n",
    "\n",
    "2. Multiple Inheritance – Child inherits from multiple parents.\n",
    "\n",
    "3. Multilevel Inheritance – Child of a child class.\n",
    "\n",
    "4. Hierarchical Inheritance – Multiple children from one parent.\n",
    "\n",
    "5. Hybrid Inheritance – Combination of types."
   ]
  },
  {
   "cell_type": "markdown",
   "id": "e85300cf-c8ba-45fe-ae0c-9211fa480c45",
   "metadata": {},
   "source": [
    "### Summary Table:"
   ]
  },
  {
   "cell_type": "code",
   "execution_count": null,
   "id": "cff45a9d-bd01-457f-bb7a-4ace664ef748",
   "metadata": {},
   "outputs": [],
   "source": [
    "'''\n",
    "Term\t              Meaning\n",
    "Parent class\t      The class being inherited from\n",
    "Child class\t          The class that inherits from the parent\n",
    "Inheritance\t          Reusing methods and properties from another class\n",
    "Method Overriding\t  Changing the inherited method in the child class\n",
    "'''"
   ]
  },
  {
   "cell_type": "markdown",
   "id": "7d15daf5-996d-420b-89f3-646602556720",
   "metadata": {},
   "source": [
    "# 7. What is polymorphism in OOP?"
   ]
  },
  {
   "cell_type": "markdown",
   "id": "8923d8ae-841b-4f61-bc4e-8e90841eead5",
   "metadata": {},
   "source": [
    "#### Polymorphism means “many forms” — and in object-oriented programming, it refers to the ability of different classes to respond to the same method name in different ways."
   ]
  },
  {
   "cell_type": "markdown",
   "id": "f5279cf1-750a-4fce-86ca-003588b96386",
   "metadata": {},
   "source": [
    "### Why Polymorphism?"
   ]
  },
  {
   "cell_type": "markdown",
   "id": "36426764-6ac7-4f9a-a562-aca0a95359a1",
   "metadata": {},
   "source": [
    "- It allows code to be more flexible and reusable\n",
    "\n",
    "- You can write code that works on objects of different types without knowing their exact class\n",
    "\n",
    "- It supports method overriding and duck typing (common in Python)"
   ]
  },
  {
   "cell_type": "markdown",
   "id": "af627bc7-2a87-4a4c-a17e-ec688a20488b",
   "metadata": {},
   "source": [
    "### Example: Polymorphism Using Method Overriding"
   ]
  },
  {
   "cell_type": "code",
   "execution_count": 122,
   "id": "f0aaaaf5-2327-445d-bfb0-4174e5d9d5b8",
   "metadata": {},
   "outputs": [
    {
     "name": "stdout",
     "output_type": "stream",
     "text": [
      "Bark\n",
      "Meow\n"
     ]
    }
   ],
   "source": [
    "class Animal:\n",
    "    def speak(self):\n",
    "        print(\"The animal make sound\")\n",
    "class Dog(Animal):\n",
    "    def speak(self):\n",
    "        print(\"Bark\")\n",
    "class Cat(Animal):\n",
    "    def speak(self):\n",
    "        print(\"Meow\")\n",
    "\n",
    "def make_sound(animal):  # Polymorphic behavior\n",
    "    animal.speak()\n",
    "\n",
    "d = Dog()\n",
    "c = Cat()\n",
    "\n",
    "make_sound(d)\n",
    "make_sound(c)"
   ]
  },
  {
   "cell_type": "markdown",
   "id": "0f5ecbb2-6c16-4336-9c55-f4ca3d20e4d2",
   "metadata": {},
   "source": [
    "#### Even though make_sound() calls the same speak() method, it behaves differently depending on the object passed — that's runtime polymorphism."
   ]
  },
  {
   "cell_type": "markdown",
   "id": "16fbb929-8d5d-42a2-b7e6-850ef0868e58",
   "metadata": {},
   "source": [
    "### Two Types of Polymorphism in Python:"
   ]
  },
  {
   "cell_type": "code",
   "execution_count": null,
   "id": "0b76fcf0-5571-47e5-9fcc-e3bf0a5a9e08",
   "metadata": {},
   "outputs": [],
   "source": [
    "'''\n",
    "Type\t                  Description\t                                                    Example\n",
    "Compile-time\t          Not applicable to Python (since it's dynamically typed)\t        Not used in Python\n",
    "Runtime\t                  Python uses method overriding and duck typing for polymorphism\tobject.speak() behaves differently for each subclass\n",
    "'''"
   ]
  },
  {
   "cell_type": "markdown",
   "id": "c935cb5b-ba9f-4997-8b92-1ad4e4ebd084",
   "metadata": {},
   "source": [
    "### Duck Typing in Python"
   ]
  },
  {
   "cell_type": "markdown",
   "id": "54f1b07b-b698-4c1a-a37a-5d980fdd0511",
   "metadata": {},
   "source": [
    "Python follows duck typing:\n",
    "\n",
    "- “If it walks like a duck and quacks like a duck, it’s a duck.”\n",
    "\n",
    "- You don’t care what type the object is — as long as it has the method you need."
   ]
  },
  {
   "cell_type": "code",
   "execution_count": 124,
   "id": "e9e15f96-74f5-4095-91ff-bc4534a7499f",
   "metadata": {},
   "outputs": [
    {
     "name": "stdout",
     "output_type": "stream",
     "text": [
      "Flying in the sky\n",
      "Flying through engines\n"
     ]
    }
   ],
   "source": [
    "class Bird:\n",
    "    def fly(self):\n",
    "        print(\"Flying in the sky\")\n",
    "\n",
    "class Airplane:\n",
    "    def fly(self):\n",
    "        print(\"Flying through engines\")\n",
    "\n",
    "def take_off(flying_thing):\n",
    "    flying_thing.fly()\n",
    "\n",
    "take_off(Bird())       \n",
    "take_off(Airplane())   \n"
   ]
  },
  {
   "cell_type": "markdown",
   "id": "32c4deb0-3d8c-4c9e-83a9-dcf7e2e06ba4",
   "metadata": {},
   "source": [
    "### Summary:"
   ]
  },
  {
   "cell_type": "code",
   "execution_count": null,
   "id": "073206b5-26e4-4a77-9b87-ebb780861874",
   "metadata": {},
   "outputs": [],
   "source": [
    "'''\n",
    "\n",
    "Concept\t                Meaning\n",
    "Polymorphism\t        Same function/method name behaves differently for different objects\n",
    "Method Overriding\t    Subclass provides its own version of a method\n",
    "Duck Typing\t            Python's dynamic way to support polymorphism — method name matters, not type\n",
    "'''"
   ]
  },
  {
   "cell_type": "markdown",
   "id": "27f23b5f-f89a-4b75-876a-c213eb8ef129",
   "metadata": {},
   "source": [
    "# 8. How is encapsulation achieved in Python?"
   ]
  },
  {
   "cell_type": "markdown",
   "id": "21b75d07-6b5c-462d-8459-edf0bee852c6",
   "metadata": {},
   "source": [
    "#### Encapsulation is the concept of wrapping data (attributes) and methods (functions) that operate on the data into a single unit — i.e., a class — and restricting direct access to some of the object's components."
   ]
  },
  {
   "cell_type": "markdown",
   "id": "75bc05f2-f767-4ae9-a276-f5de9530b991",
   "metadata": {},
   "source": [
    "This helps to:\n",
    "\n",
    "- Protect internal data\n",
    "\n",
    "- Control how data is modified\n",
    "\n",
    "- Improve code security and robustness"
   ]
  },
  {
   "cell_type": "markdown",
   "id": "683e37a9-8933-4070-b0d6-61320496b6f3",
   "metadata": {},
   "source": [
    "### How Encapsulation Works in Python"
   ]
  },
  {
   "cell_type": "markdown",
   "id": "1f47e7c3-b67f-41ef-91e0-2ae1a464a7bd",
   "metadata": {},
   "source": [
    "In Python, encapsulation is achieved using:\n",
    "\n",
    "1. Public members\n",
    "\n",
    "2. Protected members\n",
    "\n",
    "3. Private members"
   ]
  },
  {
   "cell_type": "markdown",
   "id": "0b71ac6b-9642-4746-b2d9-96a26aca6804",
   "metadata": {},
   "source": [
    "### 1. Public Members (name)\n",
    "- Accessible from anywhere"
   ]
  },
  {
   "cell_type": "code",
   "execution_count": 125,
   "id": "11cdbd30-14e4-4853-b5dd-e09f031e73bc",
   "metadata": {},
   "outputs": [
    {
     "name": "stdout",
     "output_type": "stream",
     "text": [
      "Vishal\n"
     ]
    }
   ],
   "source": [
    "class Person:\n",
    "    def __init__(self, name):\n",
    "        self.name = name \n",
    "\n",
    "p = Person(\"Vishal\")\n",
    "print(p.name) \n"
   ]
  },
  {
   "cell_type": "markdown",
   "id": "c4554584-d181-4f57-a1d6-2bfcb949bb13",
   "metadata": {},
   "source": [
    "### 2. Protected Members (_name)\n",
    "- Convention: Should not be accessed outside the class/subclass\n",
    "\n",
    "- Still accessible, but marked as \"internal use only\""
   ]
  },
  {
   "cell_type": "code",
   "execution_count": 126,
   "id": "0528ce79-a9ea-4211-baae-a246e2e61a1f",
   "metadata": {},
   "outputs": [
    {
     "name": "stdout",
     "output_type": "stream",
     "text": [
      "Vishal\n"
     ]
    }
   ],
   "source": [
    "class Person:\n",
    "    def __init__(self, name):\n",
    "        self._name = name  # protected\n",
    "\n",
    "p = Person(\"Vishal\")\n",
    "print(p._name)  \n"
   ]
  },
  {
   "cell_type": "markdown",
   "id": "fdf8a25a-7cbf-4741-8484-f7a317f3fec2",
   "metadata": {},
   "source": [
    "### 3. Private Members (__name)\n",
    "- Name mangled by Python: not directly accessible outside the class\n",
    "\n",
    "- Ensures data hiding"
   ]
  },
  {
   "cell_type": "code",
   "execution_count": 127,
   "id": "ad9fabb1-a511-449c-96cf-9db6c1cd4ef5",
   "metadata": {},
   "outputs": [
    {
     "name": "stdout",
     "output_type": "stream",
     "text": [
      "Vishal\n"
     ]
    }
   ],
   "source": [
    "class Person:\n",
    "    def __init__(self, name):\n",
    "        self.__name = name  # private\n",
    "\n",
    "    def get_name(self):\n",
    "        return self.__name\n",
    "\n",
    "p = Person(\"Vishal\")\n",
    "print(p.get_name())    # Accessed via method\n",
    "# print(p.__name)      # Error: Attribute not found\n"
   ]
  },
  {
   "cell_type": "markdown",
   "id": "91ab1c60-c64d-4419-bec3-b2ab0e24f6d0",
   "metadata": {},
   "source": [
    "#### Use getters and setters to access or update private data."
   ]
  },
  {
   "cell_type": "markdown",
   "id": "ce3c45df-383a-4589-943b-af7c9a52162d",
   "metadata": {},
   "source": [
    "### Example with Getter and Setter:"
   ]
  },
  {
   "cell_type": "code",
   "execution_count": 128,
   "id": "1d4b4f3b-dd36-45e4-acc9-106e478ec7bd",
   "metadata": {},
   "outputs": [
    {
     "name": "stdout",
     "output_type": "stream",
     "text": [
      "1000\n",
      "2000\n"
     ]
    }
   ],
   "source": [
    "class Account:\n",
    "    def __init__(self, balance):\n",
    "        self.__balance = balance  # private\n",
    "\n",
    "    def get_balance(self):\n",
    "        return self.__balance\n",
    "\n",
    "    def set_balance(self, amount):\n",
    "        if amount >= 0:\n",
    "            self.__balance = amount\n",
    "\n",
    "acc = Account(1000)\n",
    "print(acc.get_balance())  \n",
    "acc.set_balance(2000)\n",
    "print(acc.get_balance())  \n"
   ]
  },
  {
   "cell_type": "markdown",
   "id": "555698bf-4eff-4047-ac5e-d3db3fcf5a39",
   "metadata": {},
   "source": [
    "### Summary Table:"
   ]
  },
  {
   "cell_type": "code",
   "execution_count": null,
   "id": "88bc53bb-ad4e-431e-8c66-a195c52295b9",
   "metadata": {},
   "outputs": [],
   "source": [
    "'''\n",
    "Access Level\t  Syntax\t    Accessible From       \tUse For\n",
    "Public\t          self.name\t    Anywhere\t            General use\n",
    "Protected\t      self._name\tClass and subclasses\tInternal use (by convention)\n",
    "Private\t          self.__name\tOnly inside the class\tSensitive data (strict access)\n",
    "'''"
   ]
  },
  {
   "cell_type": "markdown",
   "id": "55233cd4-edfb-42e4-a1e9-2d10ad5350bf",
   "metadata": {},
   "source": [
    "# 9. What is a constructor in Python?"
   ]
  },
  {
   "cell_type": "markdown",
   "id": "4df9a179-5bd2-437b-9b7b-67720c0bda21",
   "metadata": {},
   "source": [
    "#### A constructor in Python is a special method used to initialize objects when a class is created. It automatically runs when you create an instance (object) of the class."
   ]
  },
  {
   "cell_type": "markdown",
   "id": "5dfd382c-014a-4b9a-b2ef-d48805e5d63a",
   "metadata": {},
   "source": [
    "### Purpose of a Constructor:"
   ]
  },
  {
   "cell_type": "markdown",
   "id": "dd864bbb-86db-46fe-8be6-e0030b6a6df2",
   "metadata": {},
   "source": [
    "- Set initial values for object properties (attributes)\n",
    "\n",
    "- Perform any setup tasks when the object is created"
   ]
  },
  {
   "cell_type": "markdown",
   "id": "4b5c1066-b553-44f4-b2ad-9cf20f1c75ad",
   "metadata": {},
   "source": [
    "### In Python, the constructor is the __ init __() method:"
   ]
  },
  {
   "cell_type": "code",
   "execution_count": 129,
   "id": "ccf087d8-b51d-4a30-9f84-e560b4a12c15",
   "metadata": {},
   "outputs": [
    {
     "name": "stdout",
     "output_type": "stream",
     "text": [
      "Vishal\n",
      "25\n"
     ]
    }
   ],
   "source": [
    "class Person:\n",
    "    def __init__(self, name, age):  # constructor\n",
    "        self.name = name\n",
    "        self.age = age\n",
    "\n",
    "p = Person(\"Vishal\", 25)  \n",
    "print(p.name)  \n",
    "print(p.age)   \n"
   ]
  },
  {
   "cell_type": "markdown",
   "id": "703e26c6-ec2e-4583-a0f0-bcdf71733926",
   "metadata": {},
   "source": [
    "- __ init __ is called automatically when you create an object.\n",
    "\n",
    "- The self parameter refers to the current instance of the class.\n",
    "\n",
    "- You can pass arguments to set object-specific values."
   ]
  },
  {
   "cell_type": "markdown",
   "id": "fce6165c-f34e-4059-953a-f2e60a9cd7e6",
   "metadata": {},
   "source": [
    "### Without Constructor:"
   ]
  },
  {
   "cell_type": "markdown",
   "id": "04ec5fb3-38da-4887-a958-bfec4f3a1f72",
   "metadata": {},
   "source": [
    "#### You'd have to assign attributes manually after creating the object:"
   ]
  },
  {
   "cell_type": "code",
   "execution_count": 131,
   "id": "c7ffb9f7-85e0-4c2e-9f58-e101929c03da",
   "metadata": {},
   "outputs": [],
   "source": [
    "class Person:\n",
    "    pass\n",
    "\n",
    "p = Person()\n",
    "p.name = \"Vishal\"\n",
    "p.age = 25\n",
    "\n",
    "# This is less safe and less structured than using a constructor."
   ]
  },
  {
   "cell_type": "markdown",
   "id": "16f32909-2711-4661-a17b-e16052b3b5fa",
   "metadata": {},
   "source": [
    "### Summary"
   ]
  },
  {
   "cell_type": "code",
   "execution_count": null,
   "id": "b06380f3-b0cc-4a24-9b7f-e4ecbba25745",
   "metadata": {},
   "outputs": [],
   "source": [
    "'''\n",
    "Term\t        Description\n",
    "__init__()\t    Built-in constructor method in Python\n",
    "Called When\t    An object of the class is created\n",
    "Purpose\t        To initialize object’s attributes\n",
    "Arguments\t    Optional — used to pass data to the object\n",
    "'''"
   ]
  },
  {
   "cell_type": "markdown",
   "id": "1090d12c-decb-4233-a403-7702e37fee44",
   "metadata": {},
   "source": [
    "# 10. What are class and static methods in Python?"
   ]
  },
  {
   "cell_type": "markdown",
   "id": "2eb0d55e-10a5-4b1f-a87f-9bf3bfdb10e1",
   "metadata": {},
   "source": [
    "In Python, besides regular instance methods, we can define:\n",
    "\n",
    "- Class Methods – work with the class itself\n",
    "\n",
    "- Static Methods – general utility functions within the class"
   ]
  },
  {
   "cell_type": "markdown",
   "id": "5315091f-7b0c-46eb-9c4d-75bd956512ac",
   "metadata": {},
   "source": [
    "### 1. Class Method"
   ]
  },
  {
   "cell_type": "markdown",
   "id": "4ead5012-0cb8-42e6-b415-5078a7e4dc99",
   "metadata": {},
   "source": [
    "A class method is bound to the class, not the instance. It can access or modify class-level data.\n",
    "\n",
    "-  Defined using the @classmethod decorator\n",
    "-  Takes cls as the first parameter (not self)"
   ]
  },
  {
   "cell_type": "code",
   "execution_count": 138,
   "id": "49a3058c-516b-41ca-9e0a-ccecfe624c3b",
   "metadata": {},
   "outputs": [
    {
     "name": "stdout",
     "output_type": "stream",
     "text": [
      "ABC School\n"
     ]
    }
   ],
   "source": [
    "class Student:\n",
    "    school_name = \"ABC School\"\n",
    "    def __init__(self,name):\n",
    "        self.name = name\n",
    "    @classmethod\n",
    "    def get_school_name(cls):\n",
    "        return cls.school_name\n",
    "\n",
    "print(Student.get_school_name())"
   ]
  },
  {
   "cell_type": "markdown",
   "id": "9355d83e-d399-407a-b28f-c1036518e195",
   "metadata": {},
   "source": [
    "#### Use when your method needs to work with class variables or needs to create objects in alternative ways."
   ]
  },
  {
   "cell_type": "markdown",
   "id": "43a92e66-47aa-440d-8091-4da511872db7",
   "metadata": {},
   "source": [
    "### 2. Static Method"
   ]
  },
  {
   "cell_type": "markdown",
   "id": "ffaba95f-f253-4500-9336-36a49aa67d4a",
   "metadata": {},
   "source": [
    "A static method is like a regular function, but it's placed inside a class because it has some logical connection to the class.\n",
    "\n",
    "- Defined using the @staticmethod decorator\n",
    "- Takes no self or cls as the first parameter"
   ]
  },
  {
   "cell_type": "code",
   "execution_count": 139,
   "id": "fc12b117-39ad-48fe-b6df-d4c56acf4d7b",
   "metadata": {},
   "outputs": [
    {
     "name": "stdout",
     "output_type": "stream",
     "text": [
      "8\n"
     ]
    }
   ],
   "source": [
    "class MathUtils:\n",
    "    @staticmethod\n",
    "    def add(a, b):\n",
    "        return a + b\n",
    "\n",
    "print(MathUtils.add(3, 5))\n"
   ]
  },
  {
   "cell_type": "markdown",
   "id": "1f6387b8-9f7b-4439-a70f-7ac7106dcef2",
   "metadata": {},
   "source": [
    "#### Use when your method doesn't need access to instance or class data, but still makes sense to keep it in the class."
   ]
  },
  {
   "cell_type": "markdown",
   "id": "d53cbdf5-e7d6-4be1-aa13-8e4db5527822",
   "metadata": {},
   "source": [
    "### Key Differences:"
   ]
  },
  {
   "cell_type": "code",
   "execution_count": null,
   "id": "80e41d28-583f-46b9-8e03-62bd8e529365",
   "metadata": {},
   "outputs": [],
   "source": [
    "'''\n",
    "\n",
    "Feature\t           Instance Method\t          Class Method\t                Static Method\n",
    "Bound To\t       Object (self)\t          Class (cls)\t                Neither\n",
    "Access Instance?   Yes\t                      No\t                        No\n",
    "Access Class?\t   Not directly\t              Yes\t                        No\n",
    "Use Case\t       Object-specific behavior\t  Factory methods, class info\tUtility/helper methods\n",
    "Decorator\t       None\t                      @classmethod\t                @staticmethod\n",
    "'''"
   ]
  },
  {
   "cell_type": "markdown",
   "id": "2a1f16e8-265e-4ca8-817b-e08543b034ef",
   "metadata": {},
   "source": [
    "### Bonus: Example with All Three"
   ]
  },
  {
   "cell_type": "code",
   "execution_count": 140,
   "id": "aa32bd83-cb4e-460e-9355-7906f7434a01",
   "metadata": {},
   "outputs": [
    {
     "name": "stdout",
     "output_type": "stream",
     "text": [
      "Instance: Vishal\n",
      "Class: Shared\n",
      "I don't need class or object.\n"
     ]
    }
   ],
   "source": [
    "class Demo:\n",
    "    class_var = \"Shared\"\n",
    "\n",
    "    def __init__(self, name):\n",
    "        self.name = name\n",
    "\n",
    "    def instance_method(self):\n",
    "        return f\"Instance: {self.name}\"\n",
    "\n",
    "    @classmethod\n",
    "    def class_method(cls):\n",
    "        return f\"Class: {cls.class_var}\"\n",
    "\n",
    "    @staticmethod\n",
    "    def static_method():\n",
    "        return \"I don't need class or object.\"\n",
    "\n",
    "d = Demo(\"Vishal\")\n",
    "print(d.instance_method())  \n",
    "print(Demo.class_method())  \n",
    "print(Demo.static_method())  \n"
   ]
  },
  {
   "cell_type": "markdown",
   "id": "f0ad7810-2df9-4b31-a437-d361e7955483",
   "metadata": {},
   "source": [
    "# 11. What is method overloading in Python?"
   ]
  },
  {
   "cell_type": "markdown",
   "id": "2ff9a1b8-e203-43b0-811d-65ff7636ded1",
   "metadata": {},
   "source": [
    "#### In Object-Oriented Programming (OOP), method overloading refers to the ability to define multiple methods with the same name but different parameters (like in Java or C++)."
   ]
  },
  {
   "cell_type": "markdown",
   "id": "07af0c0b-978c-4c68-8490-78fa4dd2d9bb",
   "metadata": {},
   "source": [
    "#### However, in Python, true method overloading is not directly supported. You can only define one method with a given name per class — the last one overrides the previous."
   ]
  },
  {
   "cell_type": "markdown",
   "id": "12fb7516-ba73-4c73-9c14-bb6e49f9dc19",
   "metadata": {},
   "source": [
    "### Traditional Overloading – Not Supported in Python"
   ]
  },
  {
   "cell_type": "code",
   "execution_count": 142,
   "id": "afd0f088-ead9-4306-acd3-f94cee549b01",
   "metadata": {},
   "outputs": [
    {
     "name": "stdout",
     "output_type": "stream",
     "text": [
      "Hello, Vishal\n"
     ]
    }
   ],
   "source": [
    "class Example:\n",
    "    def greet(self):\n",
    "        print(\"Hello\")\n",
    "\n",
    "    def greet(self, name):  # This overwrites the above method\n",
    "        print(f\"Hello, {name}\")\n",
    "\n",
    "e = Example()\n",
    "# e.greet()        Error: missing 1 argument\n",
    "e.greet(\"Vishal\")  \n"
   ]
  },
  {
   "cell_type": "markdown",
   "id": "78b19cca-1247-49ac-b991-aae5742fb8f1",
   "metadata": {},
   "source": [
    "### How to Achieve Overloading in Python (OOP Style)"
   ]
  },
  {
   "cell_type": "markdown",
   "id": "c39a4cec-6247-44dd-b08a-8ac694fda311",
   "metadata": {},
   "source": [
    "Python allows similar behavior using:\n",
    "\n",
    "1. Default Arguments"
   ]
  },
  {
   "cell_type": "code",
   "execution_count": 143,
   "id": "78ca763f-53a5-42aa-9f2e-880bf776bf00",
   "metadata": {},
   "outputs": [
    {
     "name": "stdout",
     "output_type": "stream",
     "text": [
      "Hello\n",
      "Hello, Vishal\n"
     ]
    }
   ],
   "source": [
    "class Greet:\n",
    "    def say_hello(self, name=None):\n",
    "        if name:\n",
    "            print(f\"Hello, {name}\")\n",
    "        else:\n",
    "            print(\"Hello\")\n",
    "\n",
    "g = Greet()\n",
    "g.say_hello()        \n",
    "g.say_hello(\"Vishal\") \n"
   ]
  },
  {
   "cell_type": "markdown",
   "id": "4d5c9fc7-8625-4e17-a18c-63d6c2c6a721",
   "metadata": {},
   "source": [
    "2. Variable Arguments using *args"
   ]
  },
  {
   "cell_type": "code",
   "execution_count": 144,
   "id": "9bc679f1-29a7-483e-b9de-497cab902b4d",
   "metadata": {},
   "outputs": [
    {
     "name": "stdout",
     "output_type": "stream",
     "text": [
      "5\n",
      "10\n"
     ]
    }
   ],
   "source": [
    "class Calculator:\n",
    "    def add(self, *args):\n",
    "        return sum(args)\n",
    "\n",
    "c = Calculator()\n",
    "print(c.add(2, 3))        \n",
    "print(c.add(1, 2, 3, 4))  \n"
   ]
  },
  {
   "cell_type": "markdown",
   "id": "2144904b-b234-4322-a23b-9711d161e198",
   "metadata": {},
   "source": [
    "### Why Doesn't Python Support Traditional Overloading?"
   ]
  },
  {
   "cell_type": "markdown",
   "id": "ed16420b-9d53-49d4-ba12-d6fc8f105967",
   "metadata": {},
   "source": [
    "Python is a dynamically typed language, which means:\n",
    "\n",
    "- The number and types of arguments are not checked at compile time.\n",
    "\n",
    "- Developers typically use flexible argument techniques like *args and default values instead."
   ]
  },
  {
   "cell_type": "markdown",
   "id": "d28a4578-8202-4155-86a4-2167476340b7",
   "metadata": {},
   "source": [
    "### Summary"
   ]
  },
  {
   "cell_type": "code",
   "execution_count": null,
   "id": "555176d1-8bf2-468c-8bd7-fc19f82a066c",
   "metadata": {},
   "outputs": [],
   "source": [
    "'''\n",
    "Feature\t                              Traditional OOP Languages\t        Python\n",
    "Method overloading by signature\t      Supported\t                        Not directly supported\n",
    "Achieved using\t                      Multiple method signatures\t    Default args, *args\n",
    "Flexibility level\t                  Strict (by type/count)\t        Flexible (any inputs)\n",
    "'''"
   ]
  },
  {
   "cell_type": "markdown",
   "id": "270e0049-1fac-4f56-9812-9220adde68a7",
   "metadata": {},
   "source": [
    "# 12. What is method overriding in OOP?"
   ]
  },
  {
   "cell_type": "markdown",
   "id": "73f73786-a74d-4781-adc5-338cd4f861dd",
   "metadata": {},
   "source": [
    "#### Method overriding is an important concept in Object-Oriented Programming (OOP) that allows a child (derived) class to provide a specific implementation of a method that is already defined in its parent (base) class"
   ]
  },
  {
   "cell_type": "markdown",
   "id": "55f8e8f0-99a3-4609-84d1-10be16c953cd",
   "metadata": {},
   "source": [
    "### Key Idea:"
   ]
  },
  {
   "cell_type": "markdown",
   "id": "5c3a0e83-7d82-447d-b74a-e0e478e939db",
   "metadata": {},
   "source": [
    "#### When a subclass overrides a method from the superclass, the subclass version is used — even when called from an object of the subclass."
   ]
  },
  {
   "cell_type": "markdown",
   "id": "c776e772-58a7-4217-a5bd-6f6a4e007c3a",
   "metadata": {},
   "source": [
    "### Example in Python:"
   ]
  },
  {
   "cell_type": "code",
   "execution_count": 145,
   "id": "c696c3d6-f9e0-4201-8377-e62471ad5f9f",
   "metadata": {},
   "outputs": [
    {
     "name": "stdout",
     "output_type": "stream",
     "text": [
      "Dog barks\n"
     ]
    }
   ],
   "source": [
    "class Animal:\n",
    "    def speak(self):\n",
    "        print(\"Animal makes a sound\")\n",
    "\n",
    "class Dog(Animal):\n",
    "    def speak(self):  # Overriding the parent method\n",
    "        print(\"Dog barks\")\n",
    "\n",
    "d = Dog()\n",
    "d.speak()  \n"
   ]
  },
  {
   "cell_type": "markdown",
   "id": "c8cd65de-75e9-4176-9586-8ffbb9e3d4c8",
   "metadata": {},
   "source": [
    "#### Even though the Animal class has a speak() method, the Dog class overrides it with its own version."
   ]
  },
  {
   "cell_type": "markdown",
   "id": "2a383cf5-4c66-4f50-ab82-ef52fcd1be33",
   "metadata": {},
   "source": [
    "### When to Use Method Overriding?"
   ]
  },
  {
   "cell_type": "markdown",
   "id": "580d6996-4415-433c-82d0-2a857b573092",
   "metadata": {},
   "source": [
    "- When a child class needs custom behavior for a method inherited from a parent class.\n",
    "\n",
    "- Common in implementing polymorphism — same method name behaves differently for different classes."
   ]
  },
  {
   "cell_type": "markdown",
   "id": "b70f25bb-110b-484f-a4bd-80b5e0a77134",
   "metadata": {},
   "source": [
    "### Using super() to Call Parent’s Method"
   ]
  },
  {
   "cell_type": "markdown",
   "id": "2bdc9c89-5ad6-4da4-b7be-335fea8bb9bb",
   "metadata": {},
   "source": [
    "##### If you want to extend the behavior of the parent’s method instead of completely replacing it, use super():"
   ]
  },
  {
   "cell_type": "code",
   "execution_count": 146,
   "id": "08484609-3c50-4b61-8633-81d2cf1faa93",
   "metadata": {},
   "outputs": [
    {
     "name": "stdout",
     "output_type": "stream",
     "text": [
      "Bird is flying\n",
      "Eagle flies high\n"
     ]
    }
   ],
   "source": [
    "class Bird:\n",
    "    def fly(self):\n",
    "        print(\"Bird is flying\")\n",
    "\n",
    "class Eagle(Bird):\n",
    "    def fly(self):\n",
    "        super().fly()  # Call parent method\n",
    "        print(\"Eagle flies high\")\n",
    "\n",
    "e = Eagle()\n",
    "e.fly()\n"
   ]
  },
  {
   "cell_type": "markdown",
   "id": "43c67c3b-0d1d-4501-a078-e441936d3333",
   "metadata": {},
   "source": [
    "###  Summary"
   ]
  },
  {
   "cell_type": "code",
   "execution_count": null,
   "id": "3e532aaa-2573-486b-8ff5-9f9572d7e07d",
   "metadata": {},
   "outputs": [],
   "source": [
    "'''\n",
    "Feature                           \tDescription\n",
    "Concept                         \tSubclass redefines a method from its superclass\n",
    "Purpose                            \tCustomize or extend inherited behavior\n",
    "Same Method Name?\t                Yes\n",
    "Signature Match?\t                Should match the parent method signature\n",
    "Keyword Used?\t                    super() (if you want to call the parent version as well)\n",
    "'''"
   ]
  },
  {
   "cell_type": "markdown",
   "id": "67d365f3-f124-401f-b20a-44dcafbb8926",
   "metadata": {},
   "source": [
    "# 13. What is a property decorator in Python?"
   ]
  },
  {
   "cell_type": "markdown",
   "id": "a08cf2d6-61a7-4278-b447-e3b18d061075",
   "metadata": {},
   "source": [
    "##### In Python, the @property decorator is used to define a method as a read-only attribute. It allows you to access a method like a variable — without using parentheses."
   ]
  },
  {
   "cell_type": "markdown",
   "id": "a44f4244-e319-492e-aa75-9d6de92f48fe",
   "metadata": {},
   "source": [
    "### Why Use It?"
   ]
  },
  {
   "cell_type": "markdown",
   "id": "04421e13-8918-4096-8ddf-ec336ce01f94",
   "metadata": {},
   "source": [
    "- To control access to private attributes\n",
    "\n",
    "- To make getter/setter logic cleaner\n",
    "\n",
    "- To create computed attributes that look like regular variables"
   ]
  },
  {
   "cell_type": "markdown",
   "id": "0ebb8a7d-210f-43c5-911f-e03822f23d69",
   "metadata": {},
   "source": [
    "### Basic Example:"
   ]
  },
  {
   "cell_type": "code",
   "execution_count": 148,
   "id": "3f6768a7-5768-41a3-afa6-2ade1fc67b1c",
   "metadata": {},
   "outputs": [
    {
     "name": "stdout",
     "output_type": "stream",
     "text": [
      "78.5\n"
     ]
    }
   ],
   "source": [
    "class Circle:\n",
    "    def __init__(self, radius):\n",
    "        self._radius = radius\n",
    "\n",
    "    @property\n",
    "    def area(self):  \n",
    "        return 3.14 * self._radius ** 2\n",
    "\n",
    "c = Circle(5)\n",
    "print(c.area)  # (no parentheses needed)\n"
   ]
  },
  {
   "cell_type": "markdown",
   "id": "d81e1245-e0e0-4c34-ae68-20e0425e807f",
   "metadata": {},
   "source": [
    "##### Here, area looks like a variable but works like a method."
   ]
  },
  {
   "cell_type": "markdown",
   "id": "2e052577-bfa3-4d3d-b30c-84de208e7328",
   "metadata": {},
   "source": [
    "### Adding Setters and Getters"
   ]
  },
  {
   "cell_type": "markdown",
   "id": "adde0fbd-1f7e-4eee-bfe6-af867ff983eb",
   "metadata": {},
   "source": [
    "You can also create setters and deleters using:\n",
    "\n",
    "- @property – for getter\n",
    "\n",
    "- @<property_name>.setter – for setter\n",
    "\n",
    "- @<property_name>.deleter – for deleter"
   ]
  },
  {
   "cell_type": "code",
   "execution_count": 149,
   "id": "56cabf4a-046f-4959-8086-bb20dcf7b472",
   "metadata": {},
   "outputs": [
    {
     "name": "stdout",
     "output_type": "stream",
     "text": [
      "Vishal\n",
      "Pratik\n"
     ]
    }
   ],
   "source": [
    "class Person:\n",
    "    def __init__(self, name):\n",
    "        self._name = name\n",
    "\n",
    "    @property\n",
    "    def name(self):  \n",
    "        return self._name\n",
    "\n",
    "    @name.setter\n",
    "    def name(self, value):  # Setter\n",
    "        if not value:\n",
    "            raise ValueError(\"Name can't be empty\")\n",
    "        self._name = value\n",
    "\n",
    "p = Person(\"Vishal\")\n",
    "print(p.name)        \n",
    "p.name = \"Pratik\"       \n",
    "print(p.name)        \n"
   ]
  },
  {
   "cell_type": "markdown",
   "id": "a3256ccc-b627-44f3-bed3-440106c7bd34",
   "metadata": {},
   "source": [
    "### Summary"
   ]
  },
  {
   "cell_type": "code",
   "execution_count": null,
   "id": "4d5f930b-c043-4a68-8461-40f1bf7d814b",
   "metadata": {},
   "outputs": [],
   "source": [
    "'''\n",
    "Concept\t               Description\n",
    "@property\t           Converts a method into a read-only attribute\n",
    "Setter\t               Uses @<property_name>.setter\n",
    "Purpose\t               Encapsulation, validation, computed attributes\n",
    "Benefit\t               Cleaner, more Pythonic access to object data\n",
    "'''"
   ]
  },
  {
   "cell_type": "markdown",
   "id": "875ee90b-75bd-47c4-a743-cdb7a08248ee",
   "metadata": {},
   "source": [
    "# 14. Why is polymorphism important in OOP?"
   ]
  },
  {
   "cell_type": "markdown",
   "id": "e432f1e9-ead8-404c-9a93-5309a8ff6c29",
   "metadata": {},
   "source": [
    "##### Polymorphism is a core concept in Object-Oriented Programming (OOP) that allows objects of different classes to be treated as objects of a common superclass. It enables the same method name to behave differently based on the object calling it."
   ]
  },
  {
   "cell_type": "markdown",
   "id": "e76b558a-ed15-4e6a-8649-543961dca812",
   "metadata": {},
   "source": [
    "### Importance of Polymorphism:"
   ]
  },
  {
   "cell_type": "markdown",
   "id": "66502ca0-d2d7-4fa9-af6c-23bb604fe676",
   "metadata": {},
   "source": [
    "### 1. Code Reusability"
   ]
  },
  {
   "cell_type": "markdown",
   "id": "c27e3c9b-3632-4b5b-91ea-1761e1a715de",
   "metadata": {},
   "source": [
    "##### You can write a single function or method that works for many different types of objects."
   ]
  },
  {
   "cell_type": "code",
   "execution_count": 151,
   "id": "2a85e7c1-19ca-42d6-9002-9cf7a453ae1e",
   "metadata": {},
   "outputs": [],
   "source": [
    "def make_animal_sound(animal):\n",
    "    animal.speak()"
   ]
  },
  {
   "cell_type": "markdown",
   "id": "42f92d91-0a41-468e-af20-f32cdcb4eadd",
   "metadata": {},
   "source": [
    "#### You can pass a Dog, Cat, or Cow object to this function, and it will work the same way — calling each animal’s version of speak()."
   ]
  },
  {
   "cell_type": "markdown",
   "id": "b2699b89-2c03-436d-997b-09aaa7210f16",
   "metadata": {},
   "source": [
    "### 2.  Flexibility & Scalability"
   ]
  },
  {
   "cell_type": "markdown",
   "id": "78f7f244-2dd9-4cb7-886f-22c622650c2e",
   "metadata": {},
   "source": [
    "##### You can add new classes (like Bird, Lion, etc.) without changing the existing code that uses polymorphic behavior."
   ]
  },
  {
   "cell_type": "markdown",
   "id": "651025d9-c457-4595-ba8d-57e510ae97ba",
   "metadata": {},
   "source": [
    "### 3.  Simplifies Code"
   ]
  },
  {
   "cell_type": "markdown",
   "id": "ffd11600-2518-451c-87b2-a9d5956d9552",
   "metadata": {},
   "source": [
    "##### You don’t need long if-else or switch statements to handle different types."
   ]
  },
  {
   "cell_type": "markdown",
   "id": "64617966-b478-4e2e-bbe7-9853f5e30afd",
   "metadata": {},
   "source": [
    "### 4.  Supports Method Overriding"
   ]
  },
  {
   "cell_type": "markdown",
   "id": "a1594b05-b3a4-4f8c-bff4-20054c43c63d",
   "metadata": {},
   "source": [
    "##### Polymorphism makes method overriding useful — you can call a method on a parent reference, and the child’s version executes."
   ]
  },
  {
   "cell_type": "markdown",
   "id": "4ab799aa-6bbb-452a-b66d-c14a9a4070f0",
   "metadata": {},
   "source": [
    "### Real-World Analogy"
   ]
  },
  {
   "cell_type": "markdown",
   "id": "1bc4bd64-cce1-4102-889f-a376224cfa4e",
   "metadata": {},
   "source": [
    "- Remote control (interface): One remote can control TV, AC, or Music System — each responds differently, but the interface is the same."
   ]
  },
  {
   "cell_type": "markdown",
   "id": "71f694b2-ac79-42c7-a126-75586aeff025",
   "metadata": {},
   "source": [
    "### Example in Python:"
   ]
  },
  {
   "cell_type": "code",
   "execution_count": 152,
   "id": "ea64d6a2-f66c-4b88-bc0a-0b105f2c2c57",
   "metadata": {},
   "outputs": [
    {
     "name": "stdout",
     "output_type": "stream",
     "text": [
      "Bird chirps\n",
      "Dog barks\n"
     ]
    }
   ],
   "source": [
    "class Bird:\n",
    "    def sound(self):\n",
    "        print(\"Bird chirps\")\n",
    "\n",
    "class Dog:\n",
    "    def sound(self):\n",
    "        print(\"Dog barks\")\n",
    "\n",
    "def make_sound(animal):\n",
    "    animal.sound()\n",
    "\n",
    "make_sound(Bird())  \n",
    "make_sound(Dog())   \n"
   ]
  },
  {
   "cell_type": "markdown",
   "id": "3086b76c-4b89-458f-adce-ac62ba3d1ab5",
   "metadata": {},
   "source": [
    "##### Same function make_sound() — different behavior depending on the object."
   ]
  },
  {
   "cell_type": "markdown",
   "id": "2547d904-ca6d-498b-a2ad-648cfbcfaf40",
   "metadata": {},
   "source": [
    "### Summary"
   ]
  },
  {
   "cell_type": "code",
   "execution_count": null,
   "id": "0dd4f663-4456-4922-83bd-8e63f2e9d7dc",
   "metadata": {},
   "outputs": [],
   "source": [
    "'''\n",
    "Benefit\t                Description\n",
    "Reusability\t            Same code works with multiple object types\n",
    "Extensibility           Easy to add new classes without rewriting logic\n",
    "Cleaner Code\t        Avoids complex conditionals for different behaviors\n",
    "Real Polymorphism\t    Comes from method overriding (dynamic polymorphism)\n",
    "'''"
   ]
  },
  {
   "cell_type": "markdown",
   "id": "d3e0c00b-7d0e-4878-9001-4cb07020b30e",
   "metadata": {},
   "source": [
    "# 15. What is an abstract class in Python?"
   ]
  },
  {
   "cell_type": "markdown",
   "id": "a0f94864-fbca-4f0b-920b-c502ccb00daa",
   "metadata": {},
   "source": [
    "##### An abstract class is a class that cannot be instantiated directly. It is designed to be a base class that provides a common interface for its child classes."
   ]
  },
  {
   "cell_type": "markdown",
   "id": "c3c3e57a-fe11-4d67-bb52-9b03700a277c",
   "metadata": {},
   "source": [
    "##### In Python, abstract classes are defined using the abc module — short for Abstract Base Classes."
   ]
  },
  {
   "cell_type": "markdown",
   "id": "a3eeeb74-61a6-4500-86fc-a77d9cf4ff5c",
   "metadata": {},
   "source": [
    "### Key Features:"
   ]
  },
  {
   "cell_type": "markdown",
   "id": "745111c3-8e31-46af-8082-ca8a8b69caf6",
   "metadata": {},
   "source": [
    "- Contains one or more abstract methods\n",
    "\n",
    "- Abstract methods are declared using the @abstractmethod decorator\n",
    "\n",
    "- Meant to be inherited by subclasses that must implement the abstract methods\n",
    "\n",
    "- Helps enforce a consistent interface across subclasses"
   ]
  },
  {
   "cell_type": "markdown",
   "id": "7d7aad47-c008-493d-814d-26b973e05e00",
   "metadata": {},
   "source": [
    "### How to Create an Abstract Class"
   ]
  },
  {
   "cell_type": "code",
   "execution_count": 154,
   "id": "c91c5340-3a5e-4d3a-9fbe-ecf309fdeb65",
   "metadata": {},
   "outputs": [],
   "source": [
    "from abc import ABC, abstractmethod\n",
    "\n",
    "class Animal(ABC):  \n",
    "    @abstractmethod\n",
    "    def make_sound(self):\n",
    "        pass\n"
   ]
  },
  {
   "cell_type": "markdown",
   "id": "dcc5b24c-3f82-485b-8e5b-06c3f2ba5c80",
   "metadata": {},
   "source": [
    "####  You cannot create an object of Animal directly because it contains an abstract method."
   ]
  },
  {
   "cell_type": "markdown",
   "id": "1a54b786-c3fa-405b-99c8-4cfd050eda04",
   "metadata": {},
   "source": [
    "### Implementing an Abstract Class"
   ]
  },
  {
   "cell_type": "code",
   "execution_count": 156,
   "id": "fa298c85-1ec6-4d4c-af0d-bcfef7914ff6",
   "metadata": {},
   "outputs": [
    {
     "name": "stdout",
     "output_type": "stream",
     "text": [
      "Bark\n"
     ]
    }
   ],
   "source": [
    "class Dog(Animal):\n",
    "    def make_sound(self):\n",
    "        print(\"Bark\")\n",
    "\n",
    "d = Dog()\n",
    "d.make_sound()  \n",
    "\n",
    "# If a subclass does not implement all abstract methods, Python will raise an error."
   ]
  },
  {
   "cell_type": "markdown",
   "id": "8b3c4214-9bb7-4370-87f1-ed668770685d",
   "metadata": {},
   "source": [
    "### Why Use Abstract Classes?"
   ]
  },
  {
   "cell_type": "code",
   "execution_count": null,
   "id": "9bb7cbea-2bdc-4f13-8568-73328ab70300",
   "metadata": {},
   "outputs": [],
   "source": [
    "'''\n",
    "Purpose\t                       Description\n",
    "Define common structure\t       Force child classes to implement certain methods\n",
    "Prevent instantiation\t       Stop direct creation of generic base class objects\n",
    "Support polymorphism\t       Enable calling subclass methods through a base class reference\n",
    "'''"
   ]
  },
  {
   "cell_type": "markdown",
   "id": "9d71ffba-f0a1-47d8-88d5-4c6c34e4ccea",
   "metadata": {},
   "source": [
    "### Real-World Analogy"
   ]
  },
  {
   "cell_type": "markdown",
   "id": "006d9c7f-fcfb-4e33-aaf4-2295a92d22de",
   "metadata": {},
   "source": [
    "#### An abstract class is like a template — e.g., a Vehicle class that defines start() and stop() methods, but the actual behavior is implemented by Car, Bike, or Bus.    "
   ]
  },
  {
   "cell_type": "markdown",
   "id": "96f83fe4-167d-4a5c-95a5-28871fcc6c6f",
   "metadata": {},
   "source": [
    "### Summary"
   ]
  },
  {
   "cell_type": "code",
   "execution_count": null,
   "id": "20f859be-790e-41a5-98df-4eebde824ffc",
   "metadata": {},
   "outputs": [],
   "source": [
    "'''\n",
    "Feature\t                       Abstract Class\n",
    "Can be instantiated?\t       No\n",
    "Purpose\t                       Provide a base for other classes\n",
    "Abstract methods\t           Must be implemented by subclasses\n",
    "Module used\t                   abc (with ABC and @abstractmethod)\n",
    "'''"
   ]
  },
  {
   "cell_type": "markdown",
   "id": "5573ab9c-9329-446b-a02d-edf5ef6f950e",
   "metadata": {},
   "source": [
    "# 16. What are the advantages of OOP?"
   ]
  },
  {
   "cell_type": "markdown",
   "id": "5cb8d135-769c-48f0-b170-91f9ef10eb5d",
   "metadata": {},
   "source": [
    "##### Object-Oriented Programming (OOP) is a programming paradigm based on the concept of \"objects\", which combine data (attributes) and functions (methods) into a single unit."
   ]
  },
  {
   "cell_type": "markdown",
   "id": "6d28fe2e-28aa-4309-8e80-099fae691603",
   "metadata": {},
   "source": [
    "#### Here are the key advantages:"
   ]
  },
  {
   "cell_type": "markdown",
   "id": "5008e9c9-a5c5-452d-a37d-1364f648a973",
   "metadata": {},
   "source": [
    "### 1. Modularity"
   ]
  },
  {
   "cell_type": "markdown",
   "id": "3edcdd97-e394-4ed1-8a5a-0536d454d8ad",
   "metadata": {},
   "source": [
    "- Code is organized into classes and objects, making it modular and easy to manage.\n",
    "\n",
    "- Each class can be developed, tested, and maintained independently."
   ]
  },
  {
   "cell_type": "markdown",
   "id": "9a2a91f7-5bdf-445f-8bb7-d0aa99622b7f",
   "metadata": {},
   "source": [
    "### 2. Reusability"
   ]
  },
  {
   "cell_type": "markdown",
   "id": "6b4037cf-6b72-405d-9a67-0739aaeb12f4",
   "metadata": {},
   "source": [
    "- Using inheritance, you can reuse existing code in new classes without rewriting it.\n",
    "\n",
    "- Promotes DRY (Don't Repeat Yourself) principle."
   ]
  },
  {
   "cell_type": "markdown",
   "id": "01a179ff-74ee-4596-a15c-850710a7875e",
   "metadata": {},
   "source": [
    "### 3. Encapsulation"
   ]
  },
  {
   "cell_type": "markdown",
   "id": "5fec09ec-6438-4762-a232-4543f658ba00",
   "metadata": {},
   "source": [
    "- Bundles data and methods inside classes.\n",
    "\n",
    "- Protects internal state using private variables and property decorators.\n",
    "\n",
    "- Makes the system more secure and maintainable."
   ]
  },
  {
   "cell_type": "markdown",
   "id": "f7a488af-025f-45c7-a31c-39878701627e",
   "metadata": {},
   "source": [
    "### 4. Abstraction"
   ]
  },
  {
   "cell_type": "markdown",
   "id": "aa0e5771-5012-4612-bd47-469a4feeb5f4",
   "metadata": {},
   "source": [
    "- Hides complex implementation details from the user.\n",
    "\n",
    "- Allows the user to focus on what the object does, not how it does it."
   ]
  },
  {
   "cell_type": "markdown",
   "id": "dde211e7-c777-4097-93aa-a429e4807b52",
   "metadata": {},
   "source": [
    "### 5. Polymorphism"
   ]
  },
  {
   "cell_type": "markdown",
   "id": "cd5ec008-5175-465a-bd4a-a4660539adc9",
   "metadata": {},
   "source": [
    "- Enables objects to be treated as instances of their parent class.\n",
    "\n",
    "- Simplifies code by allowing the same interface for different types (e.g., animal.speak() works for Dog, Cat, etc.)"
   ]
  },
  {
   "cell_type": "markdown",
   "id": "5ac3d693-c6ae-4286-bb6c-c9acc678efc4",
   "metadata": {},
   "source": [
    "### 6. Scalability and Maintainability"
   ]
  },
  {
   "cell_type": "markdown",
   "id": "94e00575-efca-42ad-a9c6-ccc6c34b6326",
   "metadata": {},
   "source": [
    "- OOP makes large applications easier to scale and maintain.\n",
    "\n",
    "- Easier to update or modify one class without affecting others."
   ]
  },
  {
   "cell_type": "markdown",
   "id": "1de92e3e-b1fe-45d8-9572-0bf7a17cd8d9",
   "metadata": {},
   "source": [
    "### 7. Real-world Mapping"
   ]
  },
  {
   "cell_type": "markdown",
   "id": "39b99f16-b412-4f16-a3c1-5f15bacfbfb5",
   "metadata": {},
   "source": [
    "- OOP mirrors the way we think about real-world things — as objects with properties and behaviors.\n",
    "\n",
    "- Improves understanding and problem-solving."
   ]
  },
  {
   "cell_type": "markdown",
   "id": "4f116512-2285-4d4a-882d-7f27162c54c6",
   "metadata": {},
   "source": [
    "### Real-Life Analogy"
   ]
  },
  {
   "cell_type": "markdown",
   "id": "14523f56-2a80-4c66-bc8a-79248169a3ed",
   "metadata": {},
   "source": [
    "Think of a car as an object:\n",
    "\n",
    "- Attributes: color, brand, speed\n",
    "\n",
    "- Methods: start(), stop(), accelerate()\n",
    "\n",
    "You can have many car objects with different properties, but they all behave similarly. This is the power of OOP."
   ]
  },
  {
   "cell_type": "markdown",
   "id": "b4c92b66-b25e-4d6c-89f4-e5174db1abbc",
   "metadata": {},
   "source": [
    "### Summary Table"
   ]
  },
  {
   "cell_type": "code",
   "execution_count": null,
   "id": "f8fe8957-31f7-4d3e-8e8d-5fd9db1c9c83",
   "metadata": {},
   "outputs": [],
   "source": [
    "'''\n",
    "Advantage\t            Description\n",
    "Modularity\t            Code is broken into manageable pieces\n",
    "Reusability\t            Inheritance allows reuse of existing code\n",
    "Encapsulation\t        Protects and hides data inside classes\n",
    "Abstraction\t            Simplifies complexity by hiding details\n",
    "Polymorphism\t        Same method works differently for different objects\n",
    "Maintainability\t        Easier to update and debug\n",
    "Real-world model\t    Code reflects real-world behavior and structure\n",
    "'''"
   ]
  },
  {
   "cell_type": "markdown",
   "id": "c21a715f-d2fb-4eb0-ac8a-5fed359206c3",
   "metadata": {},
   "source": [
    "# 17. What is the difference between a class variable and an instance variable?"
   ]
  },
  {
   "cell_type": "markdown",
   "id": "d07f6035-9180-4575-82cf-71f33ddd6b60",
   "metadata": {},
   "source": [
    "#### In Python's object-oriented programming, class variables and instance variables are used to store data, but they serve different purposes."
   ]
  },
  {
   "cell_type": "markdown",
   "id": "f5792d98-aec8-4a04-af2b-729abdb70d60",
   "metadata": {},
   "source": [
    "### Class Variable:"
   ]
  },
  {
   "cell_type": "markdown",
   "id": "5addb09e-2f63-458e-b9ea-9042dc45e406",
   "metadata": {},
   "source": [
    "- A variable that is shared by all instances of a class.\n",
    "\n",
    "- Defined inside the class, but outside any method.\n",
    "\n",
    "- Used when the value should be common for all objects of that class."
   ]
  },
  {
   "cell_type": "markdown",
   "id": "cf7c2f8e-eb58-4a04-b358-b939145cda81",
   "metadata": {},
   "source": [
    "### Instance Variable:"
   ]
  },
  {
   "cell_type": "markdown",
   "id": "5c6e5d13-9ca7-465c-a56e-43f6cbf34144",
   "metadata": {},
   "source": [
    "- A variable that is unique to each object (instance).\n",
    "\n",
    "- Defined using self.variable_name inside the constructor (__ init __) or other instance methods.\n",
    "\n",
    "- Used when each object needs to store its own data."
   ]
  },
  {
   "cell_type": "markdown",
   "id": "25bfe59f-369a-4376-a1c0-b8b103ca022f",
   "metadata": {},
   "source": [
    "### Example:"
   ]
  },
  {
   "cell_type": "code",
   "execution_count": 1,
   "id": "962eace9-d50d-4e77-afe9-e951bdc98099",
   "metadata": {},
   "outputs": [
    {
     "name": "stdout",
     "output_type": "stream",
     "text": [
      "D.S.GOJIYA\n",
      "D.S.GOJIYA\n",
      "Vishal\n",
      "Pratik\n"
     ]
    }
   ],
   "source": [
    "class Student:\n",
    "    school_name = \"D.S.GOJIYA\"  # Class variable\n",
    "\n",
    "    def __init__(self, name, grade):\n",
    "        self.name = name            # Instance variable\n",
    "        self.grade = grade          # Instance variable\n",
    "\n",
    "# Creating two student objects\n",
    "s1 = Student(\"Vishal\", \"A\")\n",
    "s2 = Student(\"Pratik\", \"B\")\n",
    "\n",
    "# Accessing class and instance variables\n",
    "print(s1.school_name)  \n",
    "print(s2.school_name)  \n",
    "\n",
    "print(s1.name)         \n",
    "print(s2.name)         \n"
   ]
  },
  {
   "cell_type": "markdown",
   "id": "0ddb42bd-a3eb-4011-aed3-480629e0f6c3",
   "metadata": {},
   "source": [
    "### Key Differences:"
   ]
  },
  {
   "cell_type": "code",
   "execution_count": null,
   "id": "bb9a6de2-c3e1-4b74-bef5-f8e45bfd453c",
   "metadata": {},
   "outputs": [],
   "source": [
    "'''\n",
    "Feature\t           Class Variable\t                          Instance Variable\n",
    "Defined In\t       Inside the class, outside methods\t      Inside methods, typically __init__\n",
    "Scope\t           Shared by all objects\t                  Unique to each object\n",
    "Accessed Using\t   ClassName.variable or object.variable\t  object.variable\n",
    "Memory Usage\t   One copy per class\t                      Separate copy for each instance\n",
    "'''"
   ]
  },
  {
   "cell_type": "markdown",
   "id": "a73c0e0b-09a3-4887-a0c9-7b8a689430d5",
   "metadata": {},
   "source": [
    "### Summary:"
   ]
  },
  {
   "cell_type": "markdown",
   "id": "0a713b64-49c9-4de1-844b-d9c7d1d56a28",
   "metadata": {},
   "source": [
    "- Use class variables for constants or shared data (e.g., company name, tax rate).\n",
    "\n",
    "- Use instance variables for object-specific data (e.g., name, salary, marks)."
   ]
  },
  {
   "cell_type": "markdown",
   "id": "142cf3fd-73ae-4917-85c2-71750fe9941a",
   "metadata": {},
   "source": [
    "# 18. What is multiple inheritance in Python?"
   ]
  },
  {
   "cell_type": "markdown",
   "id": "5e36def3-2ea0-40b6-9be2-8b39f991fb9f",
   "metadata": {},
   "source": [
    "#### Multiple inheritance is a feature in Python where a class can inherit attributes and methods from more than one parent class."
   ]
  },
  {
   "cell_type": "markdown",
   "id": "1365ef4d-9fb1-4024-afb3-b44f7eb56b35",
   "metadata": {},
   "source": [
    "#### This allows a child class to combine functionality from multiple classes, making code more flexible and reusable."
   ]
  },
  {
   "cell_type": "markdown",
   "id": "7d2bc2fd-ffd8-49ca-8332-b8e7fa3b82b6",
   "metadata": {},
   "source": [
    "### Syntax:"
   ]
  },
  {
   "cell_type": "markdown",
   "id": "9ab3f51e-4cc7-4350-8785-70f9f910a876",
   "metadata": {},
   "source": [
    "class Parent1:\n",
    "    \n",
    "\n",
    "class Parent2:\n",
    "    \n",
    "\n",
    "class Child(Parent1, Parent2):\n",
    "    \n"
   ]
  },
  {
   "cell_type": "markdown",
   "id": "964ae5f6-70c4-494d-afe2-2261f7ebb29a",
   "metadata": {},
   "source": [
    "### Example:"
   ]
  },
  {
   "cell_type": "code",
   "execution_count": 3,
   "id": "c7c56389-215b-4106-8f19-310c8bfcffe0",
   "metadata": {},
   "outputs": [
    {
     "name": "stdout",
     "output_type": "stream",
     "text": [
      "Engine started.\n",
      "Playing music.\n",
      "Car is driving.\n"
     ]
    }
   ],
   "source": [
    "class Engine:\n",
    "    def start_engine(self):\n",
    "        print(\"Engine started.\")\n",
    "\n",
    "class Radio:\n",
    "    def play_music(self):\n",
    "        print(\"Playing music.\")\n",
    "\n",
    "class Car(Engine, Radio):\n",
    "    def drive(self):\n",
    "        print(\"Car is driving.\")\n",
    "\n",
    "\n",
    "my_car = Car()\n",
    "my_car.start_engine()   # Inherited from Engine\n",
    "my_car.play_music()     # Inherited from Radio\n",
    "my_car.drive()          # Defined in Car\n"
   ]
  },
  {
   "cell_type": "markdown",
   "id": "b9bd57d0-ae89-473f-b7b5-e9d6f9bdb8d2",
   "metadata": {},
   "source": [
    "### Key Points:"
   ]
  },
  {
   "cell_type": "markdown",
   "id": "111559f9-7afd-4d15-bf99-340872a83652",
   "metadata": {},
   "source": [
    "- The child class Car inherits methods from both Engine and Radio.\n"
   ]
  },
  {
   "cell_type": "markdown",
   "id": "4915b5ee-6142-4d86-81b1-646e10b8c318",
   "metadata": {},
   "source": [
    "# 19.  Explain the purpose of ‘’__ str __ ’ and ‘__ repr __’ ‘ methods in Python."
   ]
  },
  {
   "cell_type": "markdown",
   "id": "cf07b408-244c-4ee8-a1ec-ddd3f53f62ed",
   "metadata": {},
   "source": [
    "#### In Python, __ str __ and __ repr __ are special (dunder) methods used to define how an object should be represented as a string. They’re extremely useful for debugging and displaying objects."
   ]
  },
  {
   "cell_type": "markdown",
   "id": "256b76d6-2aca-4af7-b6fb-792a1e8df658",
   "metadata": {},
   "source": [
    "### __ str __() → User-Friendly String Representation"
   ]
  },
  {
   "cell_type": "markdown",
   "id": "88ea98f7-26f9-4670-94c4-5e5445deb048",
   "metadata": {},
   "source": [
    "- Used when you call print(object) or str(object).\n",
    "\n",
    "- Intended for end users.\n",
    "\n",
    "- Should return a readable and clear description of the object."
   ]
  },
  {
   "cell_type": "code",
   "execution_count": 4,
   "id": "280ed4ed-5d02-4e82-b32c-76fb9a730cb7",
   "metadata": {},
   "outputs": [
    {
     "name": "stdout",
     "output_type": "stream",
     "text": [
      "Person: Vishal\n"
     ]
    }
   ],
   "source": [
    "class Person:\n",
    "    def __init__(self, name):\n",
    "        self.name = name\n",
    "\n",
    "    def __str__(self):\n",
    "        return f\"Person: {self.name}\"\n",
    "\n",
    "p = Person(\"Vishal\")\n",
    "print(p)  \n"
   ]
  },
  {
   "cell_type": "markdown",
   "id": "dae5cb13-2ee5-4d1e-b0c8-6d00bb42b966",
   "metadata": {},
   "source": [
    "### __ repr __() → Developer-Friendly String Representation"
   ]
  },
  {
   "cell_type": "markdown",
   "id": "d543ca05-834c-4486-ac85-ba5c76007354",
   "metadata": {},
   "source": [
    "- Called when you use repr(object) or in interactive sessions (e.g., Jupyter Notebook).\n",
    "\n",
    "- Intended for developers.\n",
    "\n",
    "- Should return a string that can be used to recreate the object, if possible."
   ]
  },
  {
   "cell_type": "code",
   "execution_count": 5,
   "id": "8af1a05d-6358-45d7-bd87-5be6ac0cb432",
   "metadata": {},
   "outputs": [
    {
     "name": "stdout",
     "output_type": "stream",
     "text": [
      "Person('Vishal')\n"
     ]
    }
   ],
   "source": [
    "class Person:\n",
    "    def __init__(self, name):\n",
    "        self.name = name\n",
    "\n",
    "    def __repr__(self):\n",
    "        return f\"Person('{self.name}')\"\n",
    "\n",
    "p = Person(\"Vishal\")\n",
    "print(repr(p))  \n"
   ]
  },
  {
   "cell_type": "markdown",
   "id": "3c4d2a95-e1cd-40dc-8efc-a4de936e87f8",
   "metadata": {},
   "source": [
    "### Summary:"
   ]
  },
  {
   "cell_type": "markdown",
   "id": "6a369e94-d955-4384-80bb-ad51f0ae152d",
   "metadata": {},
   "source": [
    "- Use __ str __() to make your objects readable to users.\n",
    "\n",
    "- Use __ repr __() to give an unambiguous, developer-focused representation."
   ]
  },
  {
   "cell_type": "markdown",
   "id": "4110a242-6568-45d0-a35a-36b7d1ebfb91",
   "metadata": {},
   "source": [
    "# 20. What is the significance of the ‘super()’ function in Python?"
   ]
  },
  {
   "cell_type": "markdown",
   "id": "4a511827-2d2e-47f0-ab48-3b82cac1ffec",
   "metadata": {},
   "source": [
    "#### The super() function in Python is used to call methods from a parent (or superclass) inside a child (subclass). It allows you to reuse the code in the parent class without hardcoding the parent’s name, and is especially useful in inheritance and method overriding."
   ]
  },
  {
   "cell_type": "markdown",
   "id": "2314b7b4-8d87-4ebb-ba31-3b56603f9002",
   "metadata": {},
   "source": [
    "### Purpose of super():"
   ]
  },
  {
   "cell_type": "markdown",
   "id": "52235f3c-5567-44d1-8fad-32fbc7d9dbc2",
   "metadata": {},
   "source": [
    "- Access the parent class’s methods and properties.\n",
    "\n",
    "- Avoid duplicating code.\n",
    "\n",
    "- Maintain cleaner and more maintainable inheritance hierarchies.\n",
    "\n",
    "- Support multiple inheritance through Python’s Method Resolution Order (MRO)."
   ]
  },
  {
   "cell_type": "markdown",
   "id": "c8123841-f027-4dcb-a09d-9e1dbe098f50",
   "metadata": {},
   "source": [
    "### Example:"
   ]
  },
  {
   "cell_type": "code",
   "execution_count": 9,
   "id": "8d620308-c21a-4133-b208-5471d88fa517",
   "metadata": {},
   "outputs": [
    {
     "name": "stdout",
     "output_type": "stream",
     "text": [
      "bruno Make a sound. bruno barks\n"
     ]
    }
   ],
   "source": [
    "class Animal:\n",
    "    def __init__(self, name):\n",
    "        self.name = name\n",
    "    def speak(self):\n",
    "        return f\"{self.name} Make a sound.\"\n",
    "\n",
    "class Dog(Animal):\n",
    "    def __init__(self, name, breed):\n",
    "        super().__init__(name)\n",
    "        self.breed = breed\n",
    "    def speak(self):\n",
    "        parent_sound = super().speak()\n",
    "        return f\"{parent_sound} {self.name} barks\"\n",
    "d = Dog(\"bruno\",\"German shephard\")\n",
    "print(d.speak())"
   ]
  },
  {
   "cell_type": "markdown",
   "id": "82067be8-f97e-4747-9373-40820fab201e",
   "metadata": {},
   "source": [
    "# 21. What is the significance of the __del__ method in Python?"
   ]
  },
  {
   "cell_type": "markdown",
   "id": "f5ac9645-3c46-4ef7-b7d7-79ba35c41170",
   "metadata": {},
   "source": [
    "#### The __ del __() method is a special method (also called a dunder method) that acts as a destructor."
   ]
  },
  {
   "cell_type": "markdown",
   "id": "b7cff613-2f92-4d6f-a7e8-830e69112333",
   "metadata": {},
   "source": [
    "### Definition:"
   ]
  },
  {
   "cell_type": "code",
   "execution_count": null,
   "id": "d1a2978c-be93-4626-bd17-44192e4e64bf",
   "metadata": {},
   "outputs": [],
   "source": [
    "def __del__(self):\n",
    "    # cleanup code here"
   ]
  },
  {
   "cell_type": "markdown",
   "id": "e76a6908-7cd9-41ce-bd62-cb65fb97c5ae",
   "metadata": {},
   "source": [
    "### What does it do?"
   ]
  },
  {
   "cell_type": "markdown",
   "id": "65a7854c-540b-4c02-8d63-878b399151a9",
   "metadata": {},
   "source": [
    "\n",
    " `It's called automatically when an object is about to be destroyed (i.e., deleted from memory).`\n",
    "\n",
    "`It’s typically used for cleanup actions like:`\n",
    "\n",
    "- Closing a file\n",
    "\n",
    "- Releasing a network connection\n",
    "\n",
    "- Deleting temporary data\n"
   ]
  },
  {
   "cell_type": "markdown",
   "id": "0115ebe6-53ca-4e75-81f9-86a01fc502b2",
   "metadata": {},
   "source": [
    "### When is it triggered?"
   ]
  },
  {
   "cell_type": "markdown",
   "id": "f9bad250-9177-4111-8bde-0c0addb8852f",
   "metadata": {},
   "source": [
    "\n",
    "\n",
    "- You use del object_name\n",
    "\n",
    "- Or Python’s garbage collector deletes an object that’s no longer used"
   ]
  },
  {
   "cell_type": "markdown",
   "id": "eab5672b-941d-46f5-b027-5809a79116d5",
   "metadata": {},
   "source": [
    "### Example:"
   ]
  },
  {
   "cell_type": "code",
   "execution_count": 21,
   "id": "37db86ea-e436-4281-bbcd-fb672b3d2443",
   "metadata": {},
   "outputs": [
    {
     "name": "stdout",
     "output_type": "stream",
     "text": [
      "Opening file: data.txt\n",
      "data.txt\n"
     ]
    }
   ],
   "source": [
    "class FileHandler:\n",
    "    def __init__(self, filename):\n",
    "        self.filename = filename\n",
    "        print(f\"Opening file: {self.filename}\")\n",
    "    \n",
    "    def __del__(self):\n",
    "        print(f\"Closing file: {self.filename}\")\n",
    "\n",
    "f = FileHandler(\"data.txt\")\n",
    "print(f.filename)\n"
   ]
  },
  {
   "cell_type": "code",
   "execution_count": 22,
   "id": "ba419951-1a3b-4e9d-a339-4861fb0d00c7",
   "metadata": {},
   "outputs": [
    {
     "name": "stdout",
     "output_type": "stream",
     "text": [
      "<__main__.FileHandler object at 0x0000022E6E26FF80>\n"
     ]
    }
   ],
   "source": [
    "print(f)"
   ]
  },
  {
   "cell_type": "code",
   "execution_count": 24,
   "id": "9224e316-9aa3-44c8-b07d-4d9ec85b025a",
   "metadata": {},
   "outputs": [
    {
     "name": "stdout",
     "output_type": "stream",
     "text": [
      "Closing file: data.txt\n"
     ]
    }
   ],
   "source": [
    "del f"
   ]
  },
  {
   "cell_type": "code",
   "execution_count": 65,
   "id": "d296a261-8233-4b0b-958a-8c8ecb3424d7",
   "metadata": {},
   "outputs": [],
   "source": [
    "# print(f) # this will show an error because f variable is deleted"
   ]
  },
  {
   "cell_type": "markdown",
   "id": "0ae3799a-d6c7-46da-8b1a-48963ca58eea",
   "metadata": {},
   "source": [
    "### Summary for Assignment:"
   ]
  },
  {
   "cell_type": "code",
   "execution_count": null,
   "id": "8224943d-5461-4855-84da-cb737afc44f7",
   "metadata": {},
   "outputs": [],
   "source": [
    "'''\n",
    "Feature\t                Description\n",
    "Method Name\t            __del__(self)\n",
    "Purpose\t                Acts as a destructor; used for cleanup tasks\n",
    "Called When?           \tWhen object is deleted or garbage collected\n",
    "Common Use Cases\t    Closing files, freeing resources, logging\n",
    "Use with Caution    \tDon’t rely on it for time-sensitive cleanup\n",
    "'''"
   ]
  },
  {
   "cell_type": "markdown",
   "id": "efe5bbe0-8860-4f21-8eda-bbe7473c26a3",
   "metadata": {},
   "source": [
    "# 22. What is the difference between @staticmethod and @classmethod in Python?"
   ]
  },
  {
   "cell_type": "markdown",
   "id": "16788d4e-af3e-4cb6-86ad-07372c87da73",
   "metadata": {},
   "source": [
    "#### Both are decorators used to define methods that are not regular instance methods, but they behave differently."
   ]
  },
  {
   "cell_type": "markdown",
   "id": "3df7f4b8-6148-43c0-8691-ecf205d211c9",
   "metadata": {},
   "source": [
    "### 1. @staticmethod"
   ]
  },
  {
   "cell_type": "markdown",
   "id": "4eec895d-c735-4f71-b53d-7f276414d453",
   "metadata": {},
   "source": [
    "- Does not take self or cls as the first parameter.\n",
    "\n",
    "- It doesn’t access or modify class or instance attributes.\n",
    "\n",
    "- Used for utility/helper functions that are related to the class but don’t need access to the instance (self) or the class (cls)."
   ]
  },
  {
   "cell_type": "code",
   "execution_count": 26,
   "id": "357df18f-cb7a-4ba7-9239-fce97fd3478d",
   "metadata": {},
   "outputs": [
    {
     "name": "stdout",
     "output_type": "stream",
     "text": [
      "8\n"
     ]
    }
   ],
   "source": [
    "class Math:\n",
    "    @staticmethod\n",
    "    def add(x, y):\n",
    "        return x + y\n",
    "\n",
    "print(Math.add(3, 5))  \n"
   ]
  },
  {
   "cell_type": "markdown",
   "id": "b46dd564-8e1a-4f43-ba96-04c3cb3c3003",
   "metadata": {},
   "source": [
    "### 2. @classmethod"
   ]
  },
  {
   "cell_type": "markdown",
   "id": "43d05a74-276e-4ae9-be07-491e65f6b131",
   "metadata": {},
   "source": [
    "- Takes cls as the first parameter, referring to the class itself.\n",
    "\n",
    "- Can access or modify class variables, not instance variables.\n",
    "\n",
    "- Useful for alternative constructors or class-level operations."
   ]
  },
  {
   "cell_type": "code",
   "execution_count": 37,
   "id": "0d3aa94e-897f-4497-a517-9aa088fa1af2",
   "metadata": {},
   "outputs": [
    {
     "name": "stdout",
     "output_type": "stream",
     "text": [
      "3\n"
     ]
    }
   ],
   "source": [
    "class person:\n",
    "    count = 0\n",
    "    def __init__(self, name):\n",
    "        self.name = name\n",
    "        person.count = person.count+1\n",
    "    @classmethod\n",
    "    def get_count(cls):\n",
    "        return cls.count\n",
    "\n",
    "p1 = person(\"Vishal\")\n",
    "p2 = person(\"Pratik\")\n",
    "p3 = person(\"Ravi\")\n",
    "\n",
    "print(person.get_count())"
   ]
  },
  {
   "cell_type": "markdown",
   "id": "a84910be-1adb-496f-a6be-8668694a8b0d",
   "metadata": {},
   "source": [
    "### Summary Table:"
   ]
  },
  {
   "cell_type": "code",
   "execution_count": null,
   "id": "7af42746-0692-4558-860f-3941bdd29e2f",
   "metadata": {},
   "outputs": [],
   "source": [
    "'''\n",
    "Feature                @staticmethod\t    @classmethod\n",
    "First Argument\t       None\t                cls (refers to the class)\n",
    "Access Instance?\t   No\t                No\n",
    "Access Class?\t       No\t                Yes\n",
    "Typical Use Case\t   Utility function\t    Factory method, class state access\n",
    "'''"
   ]
  },
  {
   "cell_type": "markdown",
   "id": "3b55e21b-6bb6-489e-9df3-2a5e320c7471",
   "metadata": {},
   "source": [
    "# 23 How does polymorphism work in Python with inheritance?"
   ]
  },
  {
   "cell_type": "markdown",
   "id": "7d0d932c-902d-43c2-b7a3-d8a182fa7798",
   "metadata": {},
   "source": [
    "### Polymorphism means: \"many forms\""
   ]
  },
  {
   "cell_type": "markdown",
   "id": "457a62fa-5e20-4b1b-8a02-bf47f30ffa0c",
   "metadata": {},
   "source": [
    "#### In Python (and OOP in general), polymorphism with inheritance allows you to call the same method on different classes and get different behaviors, depending on which class the object belongs to."
   ]
  },
  {
   "cell_type": "markdown",
   "id": "40f1deff-06d6-4e89-bdeb-f171d45a10fb",
   "metadata": {},
   "source": [
    "### How It Works with Inheritance:"
   ]
  },
  {
   "cell_type": "markdown",
   "id": "ec396502-8f7f-4433-898a-5919cb7a29b4",
   "metadata": {},
   "source": [
    "1. You define a base class with a method (e.g., speak()).\n",
    "\n",
    "2. You create subclasses that override this method.\n",
    "\n",
    "3. You can then call the method on any subclass object, and the correct version of the method is executed."
   ]
  },
  {
   "cell_type": "markdown",
   "id": "3d5d4f2f-8024-4874-8e5c-a49317f0ece2",
   "metadata": {},
   "source": [
    "### Example:"
   ]
  },
  {
   "cell_type": "code",
   "execution_count": 51,
   "id": "17a54413-d510-4dbd-bdd9-7acd45bd7541",
   "metadata": {},
   "outputs": [
    {
     "name": "stdout",
     "output_type": "stream",
     "text": [
      "Dog barks\n",
      "Cat meows\n"
     ]
    }
   ],
   "source": [
    "class Animal:\n",
    "    def speak(self):\n",
    "        return \"Animal makes a sound\"\n",
    "\n",
    "class Dog(Animal):\n",
    "    def speak(self):\n",
    "        return \"Dog barks\"\n",
    "\n",
    "class Cat(Animal):\n",
    "    def speak(self):\n",
    "        return \"Cat meows\"\n",
    "        \n",
    "animals = [Dog(), Cat()]  # Polymorphic behavior\n",
    "\n",
    "for i in animals:\n",
    "    print(i.speak())\n",
    "\n",
    "\n"
   ]
  },
  {
   "cell_type": "markdown",
   "id": "c658373f-467e-4c77-9166-2226cea332ae",
   "metadata": {},
   "source": [
    "### What Happened?"
   ]
  },
  {
   "cell_type": "markdown",
   "id": "920bd51a-0e37-4c27-afa5-ac0e2ae48446",
   "metadata": {},
   "source": [
    "- Even though both Dog and Cat are treated as Animal types, their own version of speak() is called.\n",
    "\n",
    "- This is runtime polymorphism — Python dynamically decides which method to call based on the object’s type."
   ]
  },
  {
   "cell_type": "markdown",
   "id": "f506b1d6-70d6-4da3-a778-3abd7a37d954",
   "metadata": {},
   "source": [
    "### Benefits:"
   ]
  },
  {
   "cell_type": "markdown",
   "id": "d32e7feb-4916-4fbe-a7e6-bb56c1f77e29",
   "metadata": {},
   "source": [
    "- Makes your code more flexible and extensible.\n",
    "\n",
    "- You can write functions or loops that work with the base class, and they'll still behave correctly for any subclass."
   ]
  },
  {
   "cell_type": "markdown",
   "id": "aa7c0cac-b25d-402a-85a3-54f92e7545dc",
   "metadata": {},
   "source": [
    "### Summary:"
   ]
  },
  {
   "cell_type": "code",
   "execution_count": null,
   "id": "d2f8c6bd-d73c-4ced-84f4-1f860757fd09",
   "metadata": {},
   "outputs": [],
   "source": [
    "'''\n",
    "Concept\t               Meaning\n",
    "Polymorphism\t       Same method name, different behavior\n",
    "With Inheritance\t   Subclass overrides parent class methods\n",
    "Benefit\t               Write general code that works with different classes\n",
    "'''"
   ]
  },
  {
   "cell_type": "markdown",
   "id": "0062619e-594a-48a2-b932-7f4334eb2d2d",
   "metadata": {},
   "source": [
    "# 24. What is method chaining in Python OOP?"
   ]
  },
  {
   "cell_type": "markdown",
   "id": "4fcd3aa0-b724-473d-aac6-6faabfcd7fbc",
   "metadata": {},
   "source": [
    "#### Method chaining is a technique in Python where you call multiple methods on the same object in a single line. It works by having each method return the object itself (self), so the next method can be called on it."
   ]
  },
  {
   "cell_type": "markdown",
   "id": "72b9cfc5-c1cf-4641-8f8c-09ed9a8a6f06",
   "metadata": {},
   "source": [
    "### Why Use Method Chaining?"
   ]
  },
  {
   "cell_type": "markdown",
   "id": "a96ddc20-9e02-4f9b-bbf2-62f67ab18a45",
   "metadata": {},
   "source": [
    "- It makes your code more readable and concise\n",
    "\n",
    "- It helps perform sequential operations in a clean way"
   ]
  },
  {
   "cell_type": "markdown",
   "id": "10bfefc8-7767-4e47-946b-f624ce5d148a",
   "metadata": {},
   "source": [
    "### Example:"
   ]
  },
  {
   "cell_type": "code",
   "execution_count": 60,
   "id": "6bd000a0-82a1-457c-878c-16275c6f297f",
   "metadata": {},
   "outputs": [],
   "source": [
    "class Person:\n",
    "    def __init__(self, name):\n",
    "        self.name = name\n",
    "        self.age = None\n",
    "        self.city = None\n",
    "\n",
    "    def set_age(self, age):\n",
    "        self.age = age\n",
    "        return self  # returns the object itself\n",
    "\n",
    "    def set_city(self, city):\n",
    "        self.city = city\n",
    "        return self\n",
    "\n",
    "    def show(self):\n",
    "        print(f\"Name: {self.name}, Age: {self.age}, City: {self.city}\")\n",
    "       \n"
   ]
  },
  {
   "cell_type": "code",
   "execution_count": 59,
   "id": "b4bce2d2-83fc-4c47-83ab-bf7b62ba2924",
   "metadata": {},
   "outputs": [
    {
     "name": "stdout",
     "output_type": "stream",
     "text": [
      "Name: Vishal, Age: 25, City: Mumbai\n"
     ]
    }
   ],
   "source": [
    "p = Person(\"Vishal\")\n",
    "p.set_age(25).set_city(\"Mumbai\").show()\n"
   ]
  },
  {
   "cell_type": "markdown",
   "id": "f2b04974-5c8f-469b-8403-cbebacb2209f",
   "metadata": {},
   "source": [
    "### How It Works:"
   ]
  },
  {
   "cell_type": "markdown",
   "id": "d7918762-e293-46e6-9b6a-9fbde25feec7",
   "metadata": {},
   "source": [
    "- set_age() returns self → now .set_city() is called on the same object.\n",
    "\n",
    "- .set_city() also returns self → now .show() is called on that same object.\n",
    "\n",
    "- This allows you to chain them like: object.method1().method2().method3()"
   ]
  },
  {
   "cell_type": "markdown",
   "id": "b1e75467-88e5-4afa-867f-d697ee7da55c",
   "metadata": {},
   "source": [
    "### Summary:"
   ]
  },
  {
   "cell_type": "code",
   "execution_count": null,
   "id": "a949ea71-07eb-4101-a0e0-dfedb1acb74d",
   "metadata": {},
   "outputs": [],
   "source": [
    "'''\n",
    "Feature\t        Explanation\n",
    "Purpose\t        Call multiple methods on one object in a row\n",
    "Required\t    Each method must return self\n",
    "Benefit\t        Cleaner and readable code\n",
    "'''"
   ]
  },
  {
   "cell_type": "markdown",
   "id": "ff38bd1a-9603-4990-9193-e8fbeb8ae460",
   "metadata": {},
   "source": [
    "# 25.  What is the purpose of the __ call __ method in Python?"
   ]
  },
  {
   "cell_type": "markdown",
   "id": "8cc6d875-d662-49ec-b256-ab6f6c843f38",
   "metadata": {},
   "source": [
    "#### If a class defines a __ call __ method, then its instances can be used with parentheses — just like calling a regular function."
   ]
  },
  {
   "cell_type": "markdown",
   "id": "8e1ba342-0309-42f6-9fc7-ff234281d0cc",
   "metadata": {},
   "source": [
    "### Example:"
   ]
  },
  {
   "cell_type": "code",
   "execution_count": 62,
   "id": "0b983298-76d8-4d05-bdef-761f01800576",
   "metadata": {},
   "outputs": [
    {
     "name": "stdout",
     "output_type": "stream",
     "text": [
      "Hello, Vishal!\n"
     ]
    }
   ],
   "source": [
    "class Greeter:\n",
    "    def __init__(self, name):\n",
    "        self.name = name\n",
    "\n",
    "    def __call__(self, greeting):\n",
    "        return f\"{greeting}, {self.name}!\"\n",
    "\n",
    "g = Greeter(\"Vishal\")\n",
    "print(g(\"Hello\"))  \n"
   ]
  },
  {
   "cell_type": "markdown",
   "id": "d79a58fa-525b-4c39-954c-c1cdf16ce334",
   "metadata": {},
   "source": [
    "### Explanation:"
   ]
  },
  {
   "cell_type": "markdown",
   "id": "04f32d9c-f859-4764-a27e-7afbbea76cff",
   "metadata": {},
   "source": [
    "- g(\"Hello\") looks like a function call.\n",
    "\n",
    "- But since the Greeter class defines __ call __, this expression actually runs:\n",
    "\n",
    "g.__ call __(\"Hello\")\n"
   ]
  },
  {
   "cell_type": "markdown",
   "id": "fde05c77-1192-492c-9470-905c72ba31e4",
   "metadata": {},
   "source": [
    "### Why use __ call __?"
   ]
  },
  {
   "cell_type": "code",
   "execution_count": null,
   "id": "f1eee2f4-36e0-43bd-a3d4-aed40515859c",
   "metadata": {},
   "outputs": [],
   "source": [
    "'''\n",
    "Use Case\t                                Benefit\n",
    "Making objects behave like functions       \tGreat for function wrappers, decorators, machine learning models, etc.\n",
    "Clean, elegant syntax\t                    Keeps object state and logic together but with simple function-like use\n",
    "'''"
   ]
  },
  {
   "cell_type": "markdown",
   "id": "a99fb0f5-583b-4eaf-b1a3-4bd8f9f189da",
   "metadata": {},
   "source": [
    "### Real-Life Example: Callable Counter"
   ]
  },
  {
   "cell_type": "code",
   "execution_count": 64,
   "id": "06265d89-41e5-42ed-8397-4ea2e2f97dda",
   "metadata": {},
   "outputs": [
    {
     "name": "stdout",
     "output_type": "stream",
     "text": [
      "1\n",
      "2\n",
      "3\n"
     ]
    }
   ],
   "source": [
    "class Counter:\n",
    "    def __init__(self):\n",
    "        self.count = 0\n",
    "\n",
    "    def __call__(self):\n",
    "        self.count += 1\n",
    "        return self.count\n",
    "\n",
    "c = Counter()\n",
    "print(c())  \n",
    "print(c())  \n",
    "print(c())  \n"
   ]
  },
  {
   "cell_type": "markdown",
   "id": "edf05034-ebc4-4830-998c-9f78579e2b8b",
   "metadata": {},
   "source": [
    "### Summary"
   ]
  },
  {
   "cell_type": "markdown",
   "id": "40b10b23-7b48-4db2-9ee8-7c0dda440ebf",
   "metadata": {},
   "source": [
    "- __ call __ lets you call an object like a function\n",
    "\n",
    "- It's defined like: def __ call __(self, ...):\n",
    "\n",
    "- It’s helpful for cleaner, functional-style OOP"
   ]
  },
  {
   "cell_type": "markdown",
   "id": "6969edb5-d98e-4971-ab81-b2a925cabea1",
   "metadata": {},
   "source": [
    "## Practical Questions"
   ]
  },
  {
   "cell_type": "markdown",
   "id": "b2c75146-d976-4e81-82fd-a3c44505030a",
   "metadata": {},
   "source": [
    "# 1. Create a parent class Animal with a method speak() that prints a generic message. Create a child class Dog that overrides the speak() method to print \"Bark!\"."
   ]
  },
  {
   "cell_type": "code",
   "execution_count": 3,
   "id": "ff14d636-cb01-48a7-a4cc-184f74f0f86b",
   "metadata": {},
   "outputs": [
    {
     "name": "stdout",
     "output_type": "stream",
     "text": [
      "Bark!\n"
     ]
    }
   ],
   "source": [
    "class Animal:\n",
    "    def speak(self):\n",
    "        return \"This is Animal sound\"\n",
    "class Dog(Animal):\n",
    "    def speak(self):\n",
    "        return \"Bark!\"\n",
    "\n",
    "d =Dog()\n",
    "print(d.speak())"
   ]
  },
  {
   "cell_type": "markdown",
   "id": "d9584845-332e-46ac-9974-ce7989c93aa6",
   "metadata": {},
   "source": [
    "# 2. Write a program to create an abstract class Shape with a method area(). Derive classes Circle and Rectangle from it and implement the area() method in both."
   ]
  },
  {
   "cell_type": "code",
   "execution_count": 10,
   "id": "55f664d9-4660-4cf7-81d8-68605c471a49",
   "metadata": {},
   "outputs": [
    {
     "name": "stdout",
     "output_type": "stream",
     "text": [
      "This is Circle class\n",
      "This is Rectangle class\n"
     ]
    }
   ],
   "source": [
    "from abc import ABC,abstractmethod\n",
    "\n",
    "class Shape(ABC):\n",
    "    @abstractmethod\n",
    "    def area(self):\n",
    "        pass\n",
    "\n",
    "class Circle(Shape):\n",
    "    def area(self):\n",
    "        return \"This is Circle class\"\n",
    "\n",
    "class Rectangle(Shape):\n",
    "    def area(self):\n",
    "        return \"This is Rectangle class\"\n",
    "\n",
    "\n",
    "c = Circle()\n",
    "r = Rectangle()\n",
    "\n",
    "\n",
    "print(c.area())\n",
    "print(r.area())"
   ]
  },
  {
   "cell_type": "markdown",
   "id": "2b0868db-3ed2-49da-a38c-837d85cbea0b",
   "metadata": {},
   "source": [
    "# 3. Implement a multi-level inheritance scenario where a class Vehicle has an attribute type. Derive a class Car and further derive a class ElectricCar that adds a battery attribute."
   ]
  },
  {
   "cell_type": "code",
   "execution_count": 39,
   "id": "24a0e1b3-fb2a-4900-b5b4-89a262c7e14e",
   "metadata": {},
   "outputs": [],
   "source": [
    "class Vehicle:\n",
    "    def __init__(self,vehicle_type):\n",
    "        self.type = vehicle_type\n",
    "    def Vehicle_info(self):\n",
    "        return f\"This is {self.type} companies Vehicle\"\n",
    "        \n",
    "class Car(Vehicle):\n",
    "    def Car_info(self):\n",
    "        return \"This is Car info\"\n",
    "        \n",
    "class ElectricCar(Car):\n",
    "    def __init__(self, vehicle_type, battery):\n",
    "        super().__init__(vehicle_type)\n",
    "        self.battery = battery\n",
    "    def ElectricCar_info(self):\n",
    "        return f\"This has {self.battery} battery\"\n",
    "\n",
    "vehicle1 = Vehicle(\"BMW\")\n",
    "car1 = Car(\"BMW\")\n",
    "e_car1 = ElectricCar(\"BMW\",\"Lithium\")"
   ]
  },
  {
   "cell_type": "code",
   "execution_count": 40,
   "id": "1fa2688a-d98b-4af8-ac50-da0b60ddc963",
   "metadata": {},
   "outputs": [
    {
     "data": {
      "text/plain": [
       "'This is BMW companies Vehicle'"
      ]
     },
     "execution_count": 40,
     "metadata": {},
     "output_type": "execute_result"
    }
   ],
   "source": [
    "e_car1.Vehicle_info()"
   ]
  },
  {
   "cell_type": "code",
   "execution_count": 41,
   "id": "7a959c11-b5bc-46da-b34c-b78d1630135c",
   "metadata": {},
   "outputs": [
    {
     "data": {
      "text/plain": [
       "'This is Car info'"
      ]
     },
     "execution_count": 41,
     "metadata": {},
     "output_type": "execute_result"
    }
   ],
   "source": [
    "e_car1.Car_info()          "
   ]
  },
  {
   "cell_type": "code",
   "execution_count": 42,
   "id": "f6f6e51b-7209-40ca-bdac-dcc520b45e42",
   "metadata": {},
   "outputs": [
    {
     "data": {
      "text/plain": [
       "'This has Lithium battery'"
      ]
     },
     "execution_count": 42,
     "metadata": {},
     "output_type": "execute_result"
    }
   ],
   "source": [
    "e_car1.ElectricCar_info()"
   ]
  },
  {
   "cell_type": "markdown",
   "id": "4c277186-1930-4f87-a5a5-5975fe5c4989",
   "metadata": {},
   "source": [
    "# 4. Demonstrate polymorphism by creating a base class Bird with a method fly(). Create two derived classes Sparrow and Penguin that override the fly() method.\n"
   ]
  },
  {
   "cell_type": "code",
   "execution_count": 14,
   "id": "b464ae9e-fe6a-450c-9b7d-7a6c8ad9dcca",
   "metadata": {},
   "outputs": [
    {
     "name": "stdout",
     "output_type": "stream",
     "text": [
      "Penguin is also a Bird, But Penguin can not fly\n",
      "Sparrow is a Bird, sparrow can also fly\n"
     ]
    }
   ],
   "source": [
    "class Bird:\n",
    "    def fly(self):\n",
    "        return \"Bird can fly\"\n",
    "\n",
    "class Sparrow(Bird):\n",
    "    def fly(self):\n",
    "        return \"Sparrow is a Bird, sparrow can also fly\"\n",
    "\n",
    "class Penguin(Bird):\n",
    "    def fly(self):\n",
    "        return \"Penguin is also a Bird, But Penguin can not fly\"\n",
    "\n",
    "def bird_type(bird):\n",
    "    return bird.fly()\n",
    "\n",
    "s = Sparrow()\n",
    "p = Penguin()\n",
    "\n",
    "\n",
    "print(bird_type(p))\n",
    "print(bird_type(s))\n",
    "\n"
   ]
  },
  {
   "cell_type": "markdown",
   "id": "dec5f394-6872-4556-a9c7-0867d42777b2",
   "metadata": {},
   "source": [
    "# 5. Write a program to demonstrate encapsulation by creating a class BankAccount with private attributes balance and methods to deposit, withdraw, and check balance."
   ]
  },
  {
   "cell_type": "code",
   "execution_count": 55,
   "id": "4b00ae81-490e-4707-940f-c0f11b690a4a",
   "metadata": {},
   "outputs": [
    {
     "name": "stdout",
     "output_type": "stream",
     "text": [
      "Current Balance :  2000\n"
     ]
    }
   ],
   "source": [
    "class Bank_account:\n",
    "    \n",
    "    def __init__(self,balance=1000):\n",
    "        self.__balance = balance\n",
    "    \n",
    "    def deposit(self, amount):\n",
    "        if amount > 0:\n",
    "            self.__balance = self.__balance + amount\n",
    "            \n",
    "    def withdraw(self,amount):\n",
    "        if amount > 0:\n",
    "            self.__balance = self.__balance - amount\n",
    "            \n",
    "    def check_balance(self):\n",
    "        return self.__balance\n",
    "\n",
    "acc1 = Bank_account()\n",
    "acc1.deposit(1000)\n",
    "print(\"Current Balance : \", acc1.check_balance())"
   ]
  },
  {
   "cell_type": "code",
   "execution_count": 56,
   "id": "841fc7fb-4472-4506-84c0-b6d4bc1fd630",
   "metadata": {},
   "outputs": [
    {
     "name": "stdout",
     "output_type": "stream",
     "text": [
      "Current Balance :  1500\n"
     ]
    }
   ],
   "source": [
    "acc1.withdraw(500)\n",
    "print(\"Current Balance : \", acc1.check_balance())"
   ]
  },
  {
   "cell_type": "markdown",
   "id": "aceadfbb-5a0e-4737-b38b-070ebb425d7d",
   "metadata": {},
   "source": [
    "# 6. Demonstrate runtime polymorphism using a method play() in a base class Instrument. Derive classes Guitar and Piano that implement their own version of play()."
   ]
  },
  {
   "cell_type": "code",
   "execution_count": 60,
   "id": "8e8ce4cd-887b-4024-9537-501df70f7457",
   "metadata": {},
   "outputs": [
    {
     "name": "stdout",
     "output_type": "stream",
     "text": [
      "Guitar is Strumming\n",
      "Piano is playing melodiously\n"
     ]
    }
   ],
   "source": [
    "class Instrument:\n",
    "    def play(self):\n",
    "        return \"Instruments are playing\"\n",
    "\n",
    "class Guitar(Instrument):\n",
    "    def play(self):\n",
    "        return \"Guitar is Strumming\"\n",
    "\n",
    "class Piano(Instrument):\n",
    "    def play(self):\n",
    "        return \"Piano is playing melodiously\"\n",
    "\n",
    "def start_playing(instrument):\n",
    "    return instrument.play()\n",
    "\n",
    "g = Guitar()\n",
    "p = Piano()\n",
    "\n",
    "print(start_playing(g))\n",
    "print(start_playing(p))"
   ]
  },
  {
   "cell_type": "markdown",
   "id": "ffe3b51b-0001-403f-922b-3ca09f910dba",
   "metadata": {},
   "source": [
    "# 7. Create a class MathOperations with a class method add_numbers() to add two numbers and a static method subtract_numbers() to subtract two numbers."
   ]
  },
  {
   "cell_type": "code",
   "execution_count": 66,
   "id": "0bcc5d4e-02e5-4793-8a36-0b509610a365",
   "metadata": {},
   "outputs": [
    {
     "name": "stdout",
     "output_type": "stream",
     "text": [
      "Addition 15\n",
      "Subtract 5\n"
     ]
    }
   ],
   "source": [
    "class MathOperations:\n",
    "    @classmethod\n",
    "    def add_numbers(cls,a,b):\n",
    "        return a+b\n",
    "\n",
    "    @staticmethod\n",
    "    def subtract_numbers(a,b):\n",
    "        return a-b\n",
    "\n",
    "print(\"Addition\",MathOperations.add_numbers(10,5))\n",
    "print(\"Subtract\",MathOperations.subtract_numbers(10,5))\n",
    "        "
   ]
  },
  {
   "cell_type": "markdown",
   "id": "85e1e014-c64d-4bda-b6db-e07ce95513e8",
   "metadata": {},
   "source": [
    "# 8. Implement a class Person with a class method to count the total number of persons created."
   ]
  },
  {
   "cell_type": "code",
   "execution_count": 74,
   "id": "42dea88f-2756-45cb-a2ed-39818e536036",
   "metadata": {},
   "outputs": [
    {
     "name": "stdout",
     "output_type": "stream",
     "text": [
      "3\n"
     ]
    }
   ],
   "source": [
    "class Person:\n",
    "    count = 0\n",
    "    \n",
    "    def __init__(self,name):\n",
    "        self.name = name\n",
    "        Person.count += 1\n",
    "        \n",
    "    @classmethod\n",
    "    def total_person(cls):\n",
    "        return cls.count\n",
    "\n",
    "p1 = Person(\"Vishal\")\n",
    "p2 = Person(\"Pratik\")\n",
    "p3 = Person(\"Ravi\")\n",
    "\n",
    "print(Person.total_person())"
   ]
  },
  {
   "cell_type": "markdown",
   "id": "ed4cd6cf-d202-4070-b5bf-7d79e3370ced",
   "metadata": {},
   "source": [
    "# 9. Write a class Fraction with attributes numerator and denominator. Override the str method to display the fraction as \"numerator/denominator\"."
   ]
  },
  {
   "cell_type": "code",
   "execution_count": 87,
   "id": "fc64d9e4-83db-4b49-b5d0-edf1282bcfbc",
   "metadata": {},
   "outputs": [
    {
     "name": "stdout",
     "output_type": "stream",
     "text": [
      "3/4\n"
     ]
    }
   ],
   "source": [
    "class Fraction:\n",
    "    def __init__(self,numerator,denominator):\n",
    "        self.numerator = numerator\n",
    "        self.denominator = denominator\n",
    "        \n",
    "    def __str__(self):\n",
    "        return f\"{self.numerator}/{self.denominator}\"\n",
    "\n",
    "f1 = Fraction(3,4)\n",
    "print(f1)"
   ]
  },
  {
   "cell_type": "markdown",
   "id": "6eab4422-64fa-49d8-9b22-83be8b79c900",
   "metadata": {},
   "source": [
    "# 10. Demonstrate operator overloading by creating a class Vector and overriding the add method to add two vectors."
   ]
  },
  {
   "cell_type": "code",
   "execution_count": 100,
   "id": "acab51fe-a98c-4898-a7df-71286850c474",
   "metadata": {},
   "outputs": [
    {
     "name": "stdout",
     "output_type": "stream",
     "text": [
      "(8,10)\n"
     ]
    }
   ],
   "source": [
    "class Vector:\n",
    "    def __init__(self,x,y):\n",
    "        self.x = x\n",
    "        self.y = y\n",
    "    def __add__(self,other):\n",
    "        return Vector(self.x+other.x,self.y+other.y)\n",
    "    def __str__(self):\n",
    "        return f\"({self.x},{self.y})\"\n",
    "\n",
    "v1 = Vector(3,4)\n",
    "v2 = Vector(5,6)\n",
    "v3 = v1+v2\n",
    "\n",
    "\n",
    "print(v3)"
   ]
  },
  {
   "cell_type": "markdown",
   "id": "afa53056-e110-405e-8f8d-a43ffe720fe8",
   "metadata": {},
   "source": [
    "# 11. Create a class Person with attributes name and age. Add a method greet() that prints \"Hello, my name is {name} and I am {age} years old.\""
   ]
  },
  {
   "cell_type": "code",
   "execution_count": 108,
   "id": "44b2d889-4225-4ac7-a94b-a82c3fec0e05",
   "metadata": {},
   "outputs": [
    {
     "name": "stdout",
     "output_type": "stream",
     "text": [
      "Hello, my name is Vishal and I am 27 years old\n"
     ]
    }
   ],
   "source": [
    "class Person:\n",
    "    def __init__(self,name,age):\n",
    "        self.name = name\n",
    "        self.age = age\n",
    "    def greet(self):\n",
    "        return  f\"Hello, my name is {self.name} and I am {self.age} years old\"\n",
    "\n",
    "p1 = Person(\"Vishal\",27)\n",
    "print(p1.greet())"
   ]
  },
  {
   "cell_type": "markdown",
   "id": "bc8c0fe4-ae8f-4cdc-a199-772781cff36c",
   "metadata": {},
   "source": [
    "# 12. Implement a class Student with attributes name and grades. Create a method average_grade() to compute the average of the grades."
   ]
  },
  {
   "cell_type": "code",
   "execution_count": 122,
   "id": "f8a1e73e-ea7c-41d9-8ff7-66501702521b",
   "metadata": {},
   "outputs": [
    {
     "name": "stdout",
     "output_type": "stream",
     "text": [
      "Vishal's average grade is 81.00\n"
     ]
    }
   ],
   "source": [
    "class Student:\n",
    "    def __init__(self,name,grades):\n",
    "        self.name = name\n",
    "        self.grades = grades\n",
    "        \n",
    "    def average_grade(self):\n",
    "        if len(self.grades) ==0:\n",
    "            return 0\n",
    "        return sum(self.grades)/len(self.grades)\n",
    "\n",
    "s1 =Student(\"Vishal\",[78,82,83])\n",
    "print(f\"{s1.name}'s average grade is {s1.average_grade():.2f}\")"
   ]
  },
  {
   "cell_type": "markdown",
   "id": "8d6b5192-409a-4f5d-929b-04cab7affa84",
   "metadata": {},
   "source": [
    "# 13. Create a class Rectangle with methods set_dimensions() to set the dimensions and area() to calculate the area."
   ]
  },
  {
   "cell_type": "code",
   "execution_count": 127,
   "id": "62387136-64eb-4f0b-9b84-a4756a3d0789",
   "metadata": {},
   "outputs": [
    {
     "name": "stdout",
     "output_type": "stream",
     "text": [
      "The area of the Rectangle : 20\n"
     ]
    }
   ],
   "source": [
    "class Rectangle:\n",
    "    def __init__(self):\n",
    "        self.length = 0\n",
    "        self.width = 0\n",
    "    def set_dimension(self,length,width):\n",
    "        self.length = length\n",
    "        self.width = width\n",
    "    def area(self):\n",
    "        return self.length*self.width\n",
    "\n",
    "rect = Rectangle()\n",
    "rect.set_dimension(5,4)\n",
    "\n",
    "print(f\"The area of the Rectangle : {rect.area()}\")"
   ]
  },
  {
   "cell_type": "markdown",
   "id": "dfd10fbe-09d6-4675-9bcb-0063a909cda6",
   "metadata": {},
   "source": [
    "# 14. Create a class Employee with a method calculate_salary() that computes the salary based on hours worked and hourly rate. Create a derived class Manager that adds a bonus to the salary."
   ]
  },
  {
   "cell_type": "code",
   "execution_count": 143,
   "id": "7e8b0fbc-01e8-40b2-b22a-1e4ae09ca628",
   "metadata": {},
   "outputs": [
    {
     "name": "stdout",
     "output_type": "stream",
     "text": [
      "Vishal's salary: $8000\n",
      "Pratik's salary: $9200\n"
     ]
    }
   ],
   "source": [
    "class Employee:\n",
    "    def __init__(self,name,hours_worked,hourly_rate):\n",
    "        self.name = name\n",
    "        self.hours_worked = hours_worked\n",
    "        self.hourly_rate = hourly_rate\n",
    "    def calculate_salary(self):\n",
    "        return self.hours_worked * self.hourly_rate\n",
    "\n",
    "class Manager(Employee):\n",
    "    def __init__(self,name,hours_worked,hourly_rate,bonus):\n",
    "        super().__init__(name,hours_worked,hourly_rate)\n",
    "        self.bonus = bonus\n",
    "    def calculate_salary(self):\n",
    "        salary = super().calculate_salary()\n",
    "        return salary + self.bonus\n",
    "employee = Employee(\"Vishal\",40,200)\n",
    "manager = Manager(\"Pratik\",30,300,200)\n",
    "\n",
    "\n",
    "print(f\"{employee.name}'s salary: ${employee.calculate_salary()}\")\n",
    "print(f\"{manager.name}'s salary: ${manager.calculate_salary()}\")"
   ]
  },
  {
   "cell_type": "markdown",
   "id": "4558d61f-95f4-4135-843f-c4185635aedc",
   "metadata": {},
   "source": [
    "# 15. Create a class Product with attributes name, price, and quantity. Implement a method total_price() that calculates the total price of the product."
   ]
  },
  {
   "cell_type": "code",
   "execution_count": 155,
   "id": "6605e64e-5f2b-48bf-bd14-809e7890a757",
   "metadata": {},
   "outputs": [
    {
     "name": "stdout",
     "output_type": "stream",
     "text": [
      "The rate of Tea is 150 so total quantity of Tea you buying is 50 and total amount is 7500\n"
     ]
    }
   ],
   "source": [
    "class Product:\n",
    "    def __init__(self,name,price,quantity):\n",
    "        self.name = name\n",
    "        self.price = price\n",
    "        self.quantity = quantity\n",
    "        \n",
    "    def total_price(self):\n",
    "        return self.price*self.quantity\n",
    "\n",
    "p1 = Product(\"Tea\",150,50)\n",
    "\n",
    "print(f\"The rate of {p1.name} is {p1.price} so total quantity of {p1.name} you buying is {p1.quantity} and total amount is {p1.total_price()}\")\n",
    "        "
   ]
  },
  {
   "cell_type": "markdown",
   "id": "00712e14-c849-474d-b596-8ba3d7febd37",
   "metadata": {},
   "source": [
    "# 16. Create a class Animal with an abstract method sound(). Create two derived classes Cow and Sheep that implement the sound() method."
   ]
  },
  {
   "cell_type": "code",
   "execution_count": 157,
   "id": "2e2d1e39-cccd-4df3-9086-92bcf4761c85",
   "metadata": {},
   "outputs": [
    {
     "name": "stdout",
     "output_type": "stream",
     "text": [
      "Cow has sound Mooo!\n",
      "Sheep sound is Behehehe !\n"
     ]
    }
   ],
   "source": [
    "from abc import ABC,abstractmethod\n",
    "class Animal(ABC):\n",
    "    @abstractmethod\n",
    "    def sound(self):\n",
    "        pass\n",
    "\n",
    "class Cow(Animal):\n",
    "    def sound(self):\n",
    "        return \"Cow has sound Mooo!\"\n",
    "\n",
    "class Sheep(Animal):\n",
    "    def sound(self):\n",
    "        return \"Sheep sound is Behehehe !\"\n",
    "\n",
    "cow = Cow()\n",
    "sheep = Sheep()\n",
    "\n",
    "print(cow.sound())\n",
    "print(sheep.sound())"
   ]
  },
  {
   "cell_type": "markdown",
   "id": "84ae8ab8-d3ab-4a5e-aae5-18d4483dca21",
   "metadata": {},
   "source": [
    "# 17. Create a class Book with attributes title, author, and year_published. Add a method get_book_info() that returns a formatted string with the book's details."
   ]
  },
  {
   "cell_type": "code",
   "execution_count": 159,
   "id": "d4c0aafc-ce6f-4b98-9920-cccf30629c67",
   "metadata": {},
   "outputs": [
    {
     "name": "stdout",
     "output_type": "stream",
     "text": [
      "The Great Gatsby by F. Scott Fitzgerald publish in 1925\n"
     ]
    }
   ],
   "source": [
    "\n",
    "\n",
    "class Book:\n",
    "    def __init__(self,title,author,year_published):\n",
    "        self.title = title\n",
    "        self.author = author\n",
    "        self.year_published = year_published\n",
    "    def get_book_info(self):\n",
    "        return f\"{self.title} by {self.author} publish in {self.year_published}\"\n",
    "\n",
    "b1 = Book(\"The Great Gatsby\", \"F. Scott Fitzgerald\", 1925)\n",
    "\n",
    "print(b1.get_book_info())"
   ]
  },
  {
   "cell_type": "markdown",
   "id": "e91823b3-fdbf-4f52-b0a2-279d335fd1e6",
   "metadata": {},
   "source": [
    "# 18. Create a class House with attributes address and price. Create a derived class Mansion that adds an attribute number_of_rooms."
   ]
  },
  {
   "cell_type": "code",
   "execution_count": 161,
   "id": "299ba4da-4140-4cb2-b4e2-69b6aedf5aff",
   "metadata": {},
   "outputs": [
    {
     "name": "stdout",
     "output_type": "stream",
     "text": [
      "House: 123 Elm St, $250000\n",
      "Mansion: 456 Beverly Hills, $5000000, Rooms: 15\n"
     ]
    }
   ],
   "source": [
    "class House:\n",
    "    def __init__(self,address,price):\n",
    "        self.address = address\n",
    "        self.price = price\n",
    "        \n",
    "class Mansion(House):\n",
    "    def __init__(self,address,price,number_of_rooms):\n",
    "        super().__init__(address,price)\n",
    "        self.number_of_rooms = number_of_rooms\n",
    "        \n",
    "house1 = House(\"123 Elm St\", 250000)\n",
    "mansion1 = Mansion(\"456 Beverly Hills\", 5000000, 15)\n",
    "\n",
    "print(f\"House: {house1.address}, ${house1.price}\")\n",
    "print(f\"Mansion: {mansion1.address}, ${mansion1.price}, Rooms: {mansion1.number_of_rooms}\")\n"
   ]
  },
  {
   "cell_type": "code",
   "execution_count": null,
   "id": "47e15399-5ee9-48b6-b393-ef46bf98d162",
   "metadata": {},
   "outputs": [],
   "source": []
  }
 ],
 "metadata": {
  "kernelspec": {
   "display_name": "Python 3 (ipykernel)",
   "language": "python",
   "name": "python3"
  },
  "language_info": {
   "codemirror_mode": {
    "name": "ipython",
    "version": 3
   },
   "file_extension": ".py",
   "mimetype": "text/x-python",
   "name": "python",
   "nbconvert_exporter": "python",
   "pygments_lexer": "ipython3",
   "version": "3.12.7"
  }
 },
 "nbformat": 4,
 "nbformat_minor": 5
}
